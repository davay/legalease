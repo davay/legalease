{
  "nbformat": 4,
  "nbformat_minor": 0,
  "metadata": {
    "colab": {
      "provenance": [],
      "collapsed_sections": [
        "LWQjWlf6ZfdR",
        "x7AX-IIj3msK",
        "JcRke6ILF_on"
      ],
      "toc_visible": true
    },
    "kernelspec": {
      "name": "python3",
      "display_name": "Python 3"
    },
    "language_info": {
      "name": "python"
    }
  },
  "cells": [
    {
      "cell_type": "markdown",
      "source": [
        "# Data Preprocessing and RAG\n",
        "Lisa Lomidze, Ben Philipose, Nicholas McNamara, Devin Lim <br>\n",
        "CPSC 5830 - Data Science Capstone <br>\n",
        "01/29/2025"
      ],
      "metadata": {
        "id": "bDvGpzYyizZg"
      }
    },
    {
      "cell_type": "code",
      "source": [
        "# Install all\n",
        "!pip install pdfplumber\n",
        "!pip install pymupdf\n",
        "!pip install gdown\n",
        "!pip install subword-nmt\n",
        "!pip install nltk\n",
        "!pip install pypdf\n",
        "!pip install langchain_community\n",
        "!pip install boto3\n",
        "!pip install gpt4all\n",
        "!pip install chromadb"
      ],
      "metadata": {
        "id": "UTCqJf2TKq4S"
      },
      "execution_count": null,
      "outputs": []
    },
    {
      "cell_type": "code",
      "execution_count": null,
      "metadata": {
        "id": "oxIhEripuFfX",
        "colab": {
          "base_uri": "https://localhost:8080/"
        },
        "outputId": "f223e7b9-91df-43d3-dc5c-493a80dbad5c"
      },
      "outputs": [
        {
          "output_type": "stream",
          "name": "stderr",
          "text": [
            "[nltk_data] Downloading package punkt_tab to /root/nltk_data...\n",
            "[nltk_data]   Package punkt_tab is already up-to-date!\n"
          ]
        }
      ],
      "source": [
        "# Import General Libraries\n",
        "import os\n",
        "import numpy as np\n",
        "import torch\n",
        "import gdown\n",
        "import pandas as pd\n",
        "# PDF to plaintext conversion\n",
        "import fitz\n",
        "import pdfplumber\n",
        "import pypdf\n",
        "# Plain tokenizer\n",
        "import nltk\n",
        "nltk.download('punkt_tab')\n",
        "from nltk.tokenize import word_tokenize as wt\n",
        "# Other imports\n",
        "import argparse\n",
        "import os\n",
        "import shutil\n",
        "from langchain.document_loaders.pdf import PyPDFDirectoryLoader\n",
        "from langchain_text_splitters import RecursiveCharacterTextSplitter\n",
        "from langchain.schema.document import Document\n",
        "from langchain.vectorstores.chroma import Chroma\n",
        "from langchain.prompts import ChatPromptTemplate\n",
        "from transformers import pipeline"
      ]
    },
    {
      "cell_type": "code",
      "source": [
        "# Connect to Google Drive\n",
        "from google.colab import drive\n",
        "drive.mount('/content/drive')"
      ],
      "metadata": {
        "id": "ytLavYe6-0uh",
        "colab": {
          "base_uri": "https://localhost:8080/"
        },
        "outputId": "33f006ae-0b4f-44b0-ac41-565b30dfed04"
      },
      "execution_count": null,
      "outputs": [
        {
          "output_type": "stream",
          "name": "stdout",
          "text": [
            "Mounted at /content/drive\n"
          ]
        }
      ]
    },
    {
      "cell_type": "code",
      "source": [
        "# Initialize variables\n",
        "FOLDER_WITH_PDFs = \"/content/drive/MyDrive/CPSC_5830_Capstone/Code/data_rag\"\n",
        "CHROMA_PATH = \"/content/drive/MyDrive/CPSC_5830_Capstone/Code/chroma_db\" # If want to use persistent ChromaDB, create a dir"
      ],
      "metadata": {
        "id": "X_AlKLllatMt"
      },
      "execution_count": null,
      "outputs": []
    },
    {
      "cell_type": "markdown",
      "source": [
        "Code inspiration:\n",
        "\n",
        "* https://www.youtube.com/watch?v=2TJxpyO3ei4&list=PLSstGQCNVUmuwKEb2OLV-WZaLBf9H-dv8\n",
        "\n",
        "* https://github.com/pixegami/rag-tutorial-v2/tree/main"
      ],
      "metadata": {
        "id": "_T5OUMdB0-5t"
      }
    },
    {
      "cell_type": "markdown",
      "source": [
        "## **Steps for Data Preprocessing for RAG**\n",
        "\n",
        "0. **Choose LLM for tests**\n",
        "\n",
        "1.  **Load and Extract Text:**\n",
        "\n",
        " Extract texts from Pdf files + clean texts if needed.\n",
        "\n",
        "2.  **Chunking the Text:**\n",
        "\n",
        " Since LLMs have a context length limit, split long texts into smaller chunks.\n",
        "\n",
        "3. **Convert Text Chunks into Embeddings:**\n",
        "\n",
        " We use a pre-trained embedding model to convert text chunks into numerical representations. In RAG we do not use simple vectorization techniques like TF-IDF or Bag-of-Words, as they do not capture semantic meaning.\n",
        "\n",
        "4. **Store Embeddings in a Vector Database**\n",
        "\n",
        " We should choose a vector database to store and retrieve embeddings efficiently:\n",
        "\n",
        "  * In-memory databases: ChromaDB, FAISS, Annoy\n",
        "\n",
        "  * Persistent vector stores: ChromaDB, Weaviate, Pinecone\n",
        "\n",
        "  ChromaDB is an open-source vector database designed for storing, searching, and retrieving high-dimensional embeddings efficiently. It is widely used in Retrieval-Augmented Generation (RAG), semantic search, and AI-driven applications that require fast similarity searches.\n",
        "\n",
        " For now, we decided to use ChromaDB as in-memory database. ChromaDB also offers an option to use it as persistent database that we can use later if needed.\n",
        "\n",
        " https://docs.trychroma.com/docs/run-chroma/client-server\n",
        "\n",
        " ChromaDB + Google Cloud Platform(GCP):  https://www.youtube.com/watch?v=Qs_y0lTJAp0\n",
        "\n",
        "5. **Retrieve Relevant Chunks:**\n",
        "\n",
        " When a user asks a question, retrieve the most relevant document chunks using ***vector similarity search***.\n",
        "\n",
        "6. **Testing RAG:**\n",
        "\n",
        "  - Try out query for LLM before RAG\n",
        "  - Retrieve Chunks from our vector DB\n",
        "  - Pass Retrieved Chunks as an a part of the prompt to LLM\n",
        "  - Evaluate if generated answer improved"
      ],
      "metadata": {
        "id": "NnJGdDIC8TXP"
      }
    },
    {
      "cell_type": "markdown",
      "source": [
        "# **0. Choose and Load LLM via API**"
      ],
      "metadata": {
        "id": "yFvUSfKp9rWW"
      }
    },
    {
      "cell_type": "markdown",
      "source": [
        "In this section we accessing an LLM via the APIs for testing purposes of our data preprcessing for RAG."
      ],
      "metadata": {
        "id": "oOK563r7-kj1"
      }
    },
    {
      "cell_type": "markdown",
      "source": [
        "### Version 1: LLama"
      ],
      "metadata": {
        "id": "LWQjWlf6ZfdR"
      }
    },
    {
      "cell_type": "code",
      "source": [
        "# DO NOT USE THIS MODEL\n",
        "# To use it:\n",
        "# 1. Need to create HF Access Token\n",
        "# 2. Get an access to Meta LLama models https://huggingface.co/meta-llama/Llama-2-7b-chat-hf\n",
        "\n",
        "# from transformers import pipeline\n",
        "\n",
        "# HF_TOKEN = \"your_token\"\n",
        "\n",
        "# # Use the Hugging Face API for inference\n",
        "# generator = pipeline(\"text-generation\", model=\"meta-llama/Llama-2-7b-chat-hf\", use_auth_token=HF_TOKEN)\n",
        "\n",
        "# # Generate text\n",
        "# response = generator(\"Tell me about LLaMA models.\", max_length=100)\n",
        "# print(response)"
      ],
      "metadata": {
        "id": "ugc4L8KpwkaA"
      },
      "execution_count": null,
      "outputs": []
    },
    {
      "cell_type": "markdown",
      "source": [
        "### BEST: Version 2: Gemini"
      ],
      "metadata": {
        "id": "-HqJb775ZkQs"
      }
    },
    {
      "cell_type": "code",
      "source": [
        "# Can use Gemini for now, just to test if preprocessing worked fine\n",
        "import google.generativeai as genai\n",
        "from google.colab import userdata\n",
        "\n",
        "GOOGLE_API_KEY=userdata.get('GOOGLE_API_KEY')\n",
        "genai.configure(api_key=GOOGLE_API_KEY)\n",
        "\n",
        "model = genai.GenerativeModel(\"gemini-pro\")\n",
        "response = model.generate_content(\"What is LLM?\")\n",
        "print(response.text)"
      ],
      "metadata": {
        "colab": {
          "base_uri": "https://localhost:8080/",
          "height": 228
        },
        "id": "H62gxNI2qOdR",
        "outputId": "7adc5fc7-60cd-4936-abd9-3731897f3e86"
      },
      "execution_count": null,
      "outputs": [
        {
          "output_type": "stream",
          "name": "stdout",
          "text": [
            "LLM stands for Large Language Model.\n",
            "\n",
            "LLMs are a type of artificial intelligence (AI) that is trained on a massive amount of text data. This training allows them to learn the patterns and structures of human language, and to generate text that is both coherent and natural-sounding.\n",
            "\n",
            "LLMs are used in a variety of applications, including:\n",
            "\n",
            "* **Natural language processing (NLP)**: LLMs can be used to perform a variety of NLP tasks, such as text classification, sentiment analysis, and machine translation.\n",
            "* **Conversational AI**: LLMs can be used to create chatbots and other conversational AI systems that can interact with humans in a natural way.\n",
            "* **Text generation**: LLMs can be used to generate text for a variety of purposes, such as creative writing, news articles, and marketing copy.\n",
            "\n",
            "LLMs are still under development, but they have the potential to revolutionize the way we interact with computers and use language.\n"
          ]
        }
      ]
    },
    {
      "cell_type": "markdown",
      "source": [
        "# **1. Extract Text from PDFs**"
      ],
      "metadata": {
        "id": "n7eIzXDAQCFV"
      }
    },
    {
      "cell_type": "markdown",
      "source": [
        "In this section we will use the best technique to extract texts from pdf files."
      ],
      "metadata": {
        "id": "3YS20dLl539p"
      }
    },
    {
      "cell_type": "markdown",
      "source": [
        "### Version 1 using PdfReader from pypdf"
      ],
      "metadata": {
        "id": "lbJb5rpZbCKm"
      }
    },
    {
      "cell_type": "code",
      "source": [
        "from pypdf import PdfReader\n",
        "from sentence_transformers import SentenceTransformer\n",
        "from transformers import pipeline\n",
        "\n",
        "# Load PDF Files and Extract Text\n",
        "def extract_text_from_pdf(pdf_path):\n",
        "    \"\"\"Extract text from a single PDF file.\"\"\"\n",
        "    reader = PdfReader(pdf_path)\n",
        "    text = \"\\n\".join([page.extract_text() for page in reader.pages if page.extract_text()])\n",
        "    return text\n",
        "\n",
        "def extract_text_from_folder(pdf_folder):\n",
        "    \"\"\"Extract text from all PDFs in a folder.\"\"\"\n",
        "    pdf_files = [os.path.join(pdf_folder, f) for f in os.listdir(pdf_folder) if f.endswith(\".pdf\")]\n",
        "    documents = []\n",
        "\n",
        "    for pdf in pdf_files:\n",
        "        text = extract_text_from_pdf(pdf)\n",
        "        documents.append({\"filename\": os.path.basename(pdf), \"text\": text})\n",
        "\n",
        "    return documents\n",
        "\n",
        "# Define PDF folder path\n",
        "pdf_folder = FOLDER_WITH_PDFs\n",
        "documents = extract_text_from_folder(pdf_folder)\n",
        "documents[0]"
      ],
      "metadata": {
        "colab": {
          "base_uri": "https://localhost:8080/"
        },
        "id": "HNTC2-xPQIP2",
        "outputId": "643a4810-e8d1-438f-f34f-a851324e6bde"
      },
      "execution_count": null,
      "outputs": [
        {
          "output_type": "execute_result",
          "data": {
            "text/plain": [
              "{'filename': 'LLC_COF.pdf',\n",
              " 'text': 'Certificate of Formation-LLC  Washington Secretary of State Revised 10.2023 \\n \\n \\n \\n \\n \\n \\n \\n \\n \\n \\n \\nINSTRUCTIONS: CERTIFICATE OF FORMATION OF A LIMITED LIABILITY COMPANY RCW 23.95 \\nand 25.15 \\n \\nPurpose: Certificate of Formation for a Limited Liability Company governed by RCW 25.15 is used to create a new business entity \\nthat has not previously been registered with the Office of the Secretary of State; or is beyond its five (5) year reinstatement period.  \\n \\nGeneral Instructions: Use dark ink only. Complete the entire form and enter all requested information in the fields provided. At our \\nwebsite www.sos.wa.gov/corporations  a fillable .pdf version of this form is available or you can file online at https://ccfs.sos.wa.gov  \\n \\nMail: Send the completed form and payment to the address listed above . \\n \\nPayment: Make checks or money orders payable to “Secretary of State.” Checks cannot be backdated more than 60 days from the \\ndate the check is received.  \\n \\nFees: The filing fee for the Certificate of Formation of a Limited Liability Company is $180.00 \\n \\nExpedited Service: If expedited service is requested, an additional $100 must be added to the filing fee. Check the box indicating \\nexpedited service on page one.  \\n \\nInitial Report: An initial report is due within 120 days of the effective date of this incorporation per RCW 23.95.255. The report may \\nbe included with this incorporation at no additional fee. If the Initial Report is not submitted with this incorporation , a $10 filing fee \\nwill apply. \\n \\nALL FILING FEES ARE NON-REFUNDABLE.  ALL DOCUMENTS ARE PUBLIC RECORD  \\n \\n(1) Unified Business Identifier (UBI): If the business has previously filed with another state agency such as the Department of \\nRevenue, the Department of Labor and Industries, or the Employment Security Department, the business may already have a 9-digit \\nUBI number that can be entered. Do not enter the UBI number of a Sole Proprietorship or General Partnership. If the business does \\nnot have a UBI number, select “No” and continue with the filing. If “No” is selected, the business will be issued a UBI number upon \\nsuccessful completion of the filing. \\n \\n(2) Business Name: Provide the name for review. If a name has been reserved and a Name Reservation Number has been provided, \\nenter the Number and Name in the appropriate section. If a Name Reservation has not been provided select “No”.  \\n \\nIn accordance with RCW 23.95.305, a Limited Liability Company name must contain the words Limited Liability Company, Limited \\nLiability Co., or the abbreviation of L.L.C. or LLC. A Limited Liability Company name must be distinguishable upon the records of the \\nSecretary of State from any other business already registered with the Secretary of State’s Office. If the designation is omitted, it will \\ndefault to LLC when processed.  \\n \\n(3) Period of Duration: Select a period of duration. Only one selection will be accepted. Perpetual duration means “on -going” until \\nthe business is either administratively or voluntarily dissolved. A specified date or specified number of years, may be selected. If a \\nspecified date or years is selected the business will be administratively dissolved as recorded in this section. If no selection is \\nprovided, it will default to perpetual. \\n \\n(4) Effective Date: Select the date this filing is to be effective. If “Date of Filing” is selected, the effective date will be the date the \\nsubmission is completed by our office. A future effective date may be specified which may not be more than 90 days after the date \\nof filing. \\nCorporations & Charities Division \\nPhysical/Overnight address: \\n801 Capitol Way S \\nOlympia, WA 98501-1226 \\nMailing address: \\nPO Box 40234 \\nOlympia, WA 98504-0234 \\nTel: 360.725.0377 \\nwww.sos.wa.gov/corporations \\n \\n \\nCertificate of Formation-LLC  Washington Secretary of State Revised 10.2023 \\n \\n(5) Registered Agent:  All businesses must have a Registered Agent in Washington State per RCW 23.95.415. Select only one type of \\nagent. The Consent of the Registered Agent must be signed, regardless of the type of Registered Agent. Print the name and title of \\nthe person signing and provide the date of signature. \\n \\n• Commercial Registered Agent is a business or individual registered with the Office of the Secretary of State, whose n ature \\nof business it is to receive legal documents, notices, or demands required or permitted by law to be served on behalf of the \\nbusiness. A Commercial Registered Agent has a verified address on record with the Office of the Secretary of State.  \\no Select “Yes” or “No.”  \\n▪ If “Yes,” provide the name of the Commercial Registered Agent. An address is not required.  \\n▪ If “No,” continue to Noncommercial Registered Agent.  \\n \\n• Noncommercial Registered Agent is a business or individual who agrees to receive legal documents, notice, or demand \\nrequired or permitted by law to be served on behalf of the business.  \\no Identify the Registered Agent.  \\n▪ Individual: Write the individual’s first and last name.  \\n▪ Business: Write the business’s full name. \\n▪ Office/Position: Write the office or position title held within the business such as President, Secretary, \\nTreasurer, or Member.  \\no Provide the required physical street address of the Noncommercial Registered Agent. You may also provide the \\nmailing address if needed. Addresses must be in Washington State. \\no Provide a contact phone number and email address. This information will be used if there are any questions \\nregarding the submission. \\n \\n(6) Principal Office: Enter the principal office address. This is the place where the business’s records are kept. This address must be a \\nphysical address. A PO Box or PMB will not be accepted. The address does not need to be in Washington State.  \\n \\n(7) Return Address for this Filing: If provided, the confirmation regarding this specific filing will be sent to this address, in addition to \\nthe Registered Agent’s address.  \\n \\n(8) Executor Information: Provide the name, address, and signature of the Executor(s). An Executor is the person(s) forming the \\nLimited Liability Company. An additional list may be attached if necessary.  \\n \\nFor a rapid response to questions, requests for assistance, or to provide feedback, please visit the Corporations and Charities \\nwebsite at www.sos.wa.gov/corporations to chat with a representative.  \\n \\n \\nCertificate of Formation - Limited Liability Company \\nPg 1 |  Revised 10.2023 \\n \\nCERTIFICATE OF FORMATION  \\nLimited Liability Company \\nRCW 25.15 \\n(1) Do you already have a UBI No.? (Check one)  □ Yes  □ No   If Yes, provide UBI No.: _____________________         \\nIf you have previously filed with another state agency (for example, the Department of Revenue, the Department of Labor and Industries, or the \\nEmployment Security Department), you may already have a 9-digit UBI Number you can provide. Do not enter the UBI Number of a Sole        \\nProprietorship or General Partnership.  \\nIf you do not have a UBI Number, a UBI Number will be issued to you upon successful completion of the filing. \\n(3) PERIOD OF DURATION : Check ONE of the following \\n□ years. __________  This Company shall have a perpetual duration (default)   □ This Company shall have a duration of\\n___________________  □ This Company shall expire on _\\nIf a designation is not provided, it will default to LLC \\n \\nThe name must contain the words \"Limited Liability Company\", \"Limited Liability\" and abbreviation \"Co.\" or the abbreviation \"L.L.C.\" or \"LLC\". \\nFor name requirements review the following RCW(s): RCW 23.95.305 \\n \\nDoes the business have a name reserved?  (Check one)  □ Yes  □ No  If Yes, provide the Reservation Number  \\nReservation No.: _____________________   \\n(4) EFFECTIVE DATE: Check ONE of the following \\n□  Date of filing (default)  this is the date that the submission is completed by our office \\n□ (cannot be more than 90 days following the received date) __________________    Specify a date\\n(2) BUSINESS ENTITY NAME:  \\n________________________________________________________________________________________________ \\n□ Filing Fee $180 \\n□ To Expedite Filing, Add $100 \\nAll fields are REQUIRED unless otherwise specified \\nTHIS BOX FOR OFFICE USE ONLY \\nOvernight address by commercial carrier: 801 Capitol Way S Olympia, WA 98501-1226     \\nMailing Address (ALL USPS): PO Box 40234 Olympia, WA 98504-0234    \\nTel: 360.725.0377  |  Website: www.sos.wa.gov/corporations-charities                    \\n \\nCertificate of Formation - Limited Liability Company \\nPg 2 |  Revised 10.2023 \\n \\n(5) REGISTERED AGENT:  \\n \\nA Registered Agent is an agent of a business which is authorized to receive service of any process, notices, or demands \\nrequired or permitted by law to be served on the business including hand delivered service of process.  \\n \\nAll businesses must have a Registered Agent in Washington State per RCW 23.95.415   \\n \\nProvide the name of the Commercial Registered Agent OR Non-Commercial Registered Agent. The appointed agent \\nmust sign the Consent to Serve statement below.  \\nCOMMERCIAL REGISTERED AGENT \\nA Commercial Registered Agent is a business or individual that is registered specifically as a Commercial Agent with the \\nOffice of the Secretary of State to receive legal documents on behalf of a corporation. A Commercial Registered Agent \\naddress has been registered with this office in advance and does not need to provide it with this submission.  \\n \\nIf applicable, provide the name of the Commercial Registered Agent: ________________________________________ \\nNON-COMMERCIAL REGISTERED AGENT \\nA Non-Commercial Registered Agent is a person, business, or office or position title appointed to serve as the registered \\nagent for a business. A street address located in Washington State and an email address are required; a phone number \\nand separate Washington State mailing address are optional.  \\nIf multiple types are listed the first type will be entered by this office \\nPhone: (optional) __________________________________ Email: __________________________________________ \\nCONSENT TO SERVE AS REGISTERED AGENT - REQUIRED FOR ALL TYPES \\nI hereby consent to serve as Registered Agent in the State of Washington for the named business. I understand it will be \\nmy responsibility to accept service of process, notices, and demands on behalf of the business; to forward mail to the \\nbusiness; and to immediately notify the Office of the Secretary of State if I resign or change the Registered Office      \\nAddress.  \\n_______________________________________________    _____________________________    _______________ \\nSignature of Registered Agent                        Printed Name/Title                              Date \\nCountry: United States          State: Washington \\nAddress : _______________________________________ \\n_______________________________________________ \\nCity:Zip: __________  ___________________________ \\nCountry: United States          State: Washington \\nAddress : _______________________________________ \\n_______________________________________________ \\nCity:Zip: __________  ____________________________ \\nMailing Address (optional)                          \\n □ Check if mailing address is the same as street address \\nStreet Address: (required)                       \\nMust be a physical address; No PO Box or PMB \\nRegistered Agent:  ________________________________________________________________________________ \\n• Type 1:  If an individual is serving as the Registered Agent, only provide the individual’s first and last name below.  \\n \\n• Type 2:  If a business is serving as the Registered Agent, only provide the name of the business below.  \\n \\n• Type 3:  If an office or position within the business is serving as the Registered Agent, only provide the position \\ntitle such as President, Secretary, Treasurer, or Member below.  \\nCertificate of Formation - Limited Liability Company \\nPg 3 |  Revised 10.2023 \\n \\n(8) EXECUTOR INFORMATION: Name, address, and signature are required. Attach additional sheets if necessary. \\nI hereby certify, under penalty of law, that the above information is accurate and complies with the filing            \\nrequirements of state law.  \\n \\nName:  __________________________________________________________________________________________ \\nAddress: ________________________________________________________________________________________ \\nCountry:Zip: State:City: ______________________________  ___________  ____________  ___________________ \\n \\n________________________________     _______________________________ _________________ ____________\\nSignature of Executor                    Printed Name/Title                                       Date \\n \\n \\n \\nName:  __________________________________________________________________________________________ \\nAddress: ________________________________________________________________________________________ \\nCountry:Zip: State:City: ______________________________  ___________  ____________  ___________________ \\n \\n________________________________     _______________________________ _________________ ____________\\nSignature of Executor                    Printed Name/Title                                       Date \\n(7) RETURN ADDRESS FOR THIS FILING:  (Optional)  \\nIf provided, the confirmation regarding this specific filing will be sent to the address below, in addition to the Registered \\nAgent’s address. \\nEmail:Attention: ____________________________________     ___________________________________________ \\nAddress: ________________________________________________________________________________________ \\nZip: State:City: ____________________________________________   ____________________  ________________ \\nStreet Address (required)                                                                         \\nMust be a physical address; No PO Box or PMB \\nAddress: ____________________________________________ \\n____________________________________________________ \\nZip: ______________  City: ____________________________ \\nState: ___________ Country: ___________________________ \\nMailing Address (optional)                                                                   \\n□ Check if mailing address is the same as street address \\nPhone:  __________________________________   Email: ________________________________________________________ \\n(6) PRINCIPAL OFFICE: The location where the business’s records are kept \\nAddress: ____________________________________________ \\n____________________________________________________ \\nZip: ______________  City: ____________________________ \\nState: ___________ Country: ___________________________ '}"
            ]
          },
          "metadata": {},
          "execution_count": 7
        }
      ]
    },
    {
      "cell_type": "markdown",
      "source": [
        "### BEST: Version 2 using LangChain PyPDFDirectoryLoader"
      ],
      "metadata": {
        "id": "SXANOa8UbENd"
      }
    },
    {
      "cell_type": "code",
      "source": [
        "from langchain.document_loaders.pdf import PyPDFDirectoryLoader\n",
        "def load_documents():\n",
        "    document_loader = PyPDFDirectoryLoader(DATA_PATH)\n",
        "    return document_loader.load()\n",
        "\n",
        "\n",
        "DATA_PATH = FOLDER_WITH_PDFs\n",
        "doc = load_documents()"
      ],
      "metadata": {
        "id": "hiDg-z6Sz43F"
      },
      "execution_count": null,
      "outputs": []
    },
    {
      "cell_type": "code",
      "source": [
        "doc[0]"
      ],
      "metadata": {
        "id": "uD7TkfkN04vx",
        "colab": {
          "base_uri": "https://localhost:8080/"
        },
        "outputId": "7e471398-f4d2-4d83-dd92-36eeb962c724"
      },
      "execution_count": null,
      "outputs": [
        {
          "output_type": "execute_result",
          "data": {
            "text/plain": [
              "Document(metadata={'source': '/content/drive/MyDrive/CPSC_5830_Capstone/Code/data_rag/LLC_COF.pdf', 'page': 0, 'page_label': 'Page 1'}, page_content='Certificate of Formation-LLC  Washington Secretary of State Revised 10.2023 \\n \\n \\n \\n \\n \\n \\n \\n \\n \\n \\n \\nINSTRUCTIONS: CERTIFICATE OF FORMATION OF A LIMITED LIABILITY COMPANY RCW 23.95 \\nand 25.15 \\n \\nPurpose: Certificate of Formation for a Limited Liability Company governed by RCW 25.15 is used to create a new business entity \\nthat has not previously been registered with the Office of the Secretary of State; or is beyond its five (5) year reinstatement period.  \\n \\nGeneral Instructions: Use dark ink only. Complete the entire form and enter all requested information in the fields provided. At our \\nwebsite www.sos.wa.gov/corporations  a fillable .pdf version of this form is available or you can file online at https://ccfs.sos.wa.gov  \\n \\nMail: Send the completed form and payment to the address listed above . \\n \\nPayment: Make checks or money orders payable to “Secretary of State.” Checks cannot be backdated more than 60 days from the \\ndate the check is received.  \\n \\nFees: The filing fee for the Certificate of Formation of a Limited Liability Company is $180.00 \\n \\nExpedited Service: If expedited service is requested, an additional $100 must be added to the filing fee. Check the box indicating \\nexpedited service on page one.  \\n \\nInitial Report: An initial report is due within 120 days of the effective date of this incorporation per RCW 23.95.255. The report may \\nbe included with this incorporation at no additional fee. If the Initial Report is not submitted with this incorporation , a $10 filing fee \\nwill apply. \\n \\nALL FILING FEES ARE NON-REFUNDABLE.  ALL DOCUMENTS ARE PUBLIC RECORD  \\n \\n(1) Unified Business Identifier (UBI): If the business has previously filed with another state agency such as the Department of \\nRevenue, the Department of Labor and Industries, or the Employment Security Department, the business may already have a 9-digit \\nUBI number that can be entered. Do not enter the UBI number of a Sole Proprietorship or General Partnership. If the business does \\nnot have a UBI number, select “No” and continue with the filing. If “No” is selected, the business will be issued a UBI number upon \\nsuccessful completion of the filing. \\n \\n(2) Business Name: Provide the name for review. If a name has been reserved and a Name Reservation Number has been provided, \\nenter the Number and Name in the appropriate section. If a Name Reservation has not been provided select “No”.  \\n \\nIn accordance with RCW 23.95.305, a Limited Liability Company name must contain the words Limited Liability Company, Limited \\nLiability Co., or the abbreviation of L.L.C. or LLC. A Limited Liability Company name must be distinguishable upon the records of the \\nSecretary of State from any other business already registered with the Secretary of State’s Office. If the designation is omitted, it will \\ndefault to LLC when processed.  \\n \\n(3) Period of Duration: Select a period of duration. Only one selection will be accepted. Perpetual duration means “on -going” until \\nthe business is either administratively or voluntarily dissolved. A specified date or specified number of years, may be selected. If a \\nspecified date or years is selected the business will be administratively dissolved as recorded in this section. If no selection is \\nprovided, it will default to perpetual. \\n \\n(4) Effective Date: Select the date this filing is to be effective. If “Date of Filing” is selected, the effective date will be the date the \\nsubmission is completed by our office. A future effective date may be specified which may not be more than 90 days after the date \\nof filing. \\nCorporations & Charities Division \\nPhysical/Overnight address: \\n801 Capitol Way S \\nOlympia, WA 98501-1226 \\nMailing address: \\nPO Box 40234 \\nOlympia, WA 98504-0234 \\nTel: 360.725.0377 \\nwww.sos.wa.gov/corporations \\n \\n ')"
            ]
          },
          "metadata": {},
          "execution_count": 9
        }
      ]
    },
    {
      "cell_type": "markdown",
      "source": [
        "# **2. Chunking the Text**"
      ],
      "metadata": {
        "id": "zUikqt6s3gcO"
      }
    },
    {
      "cell_type": "markdown",
      "source": [
        "For chunking texts we will use LangChain RecursiveCharacterTextSplitter, and will test different hyperparameters:\n",
        "\n",
        "`chunk_size` - The maximum size of a chunk, where size is determined by the length_function.\n",
        "\n",
        "`chunk_overlap` - Target overlap between chunks. Overlapping chunks helps to mitigate loss of information when context is divided between chunks."
      ],
      "metadata": {
        "id": "k-Ctxs2O69RN"
      }
    },
    {
      "cell_type": "markdown",
      "source": [
        "### Version1"
      ],
      "metadata": {
        "id": "x7AX-IIj3msK"
      }
    },
    {
      "cell_type": "code",
      "source": [
        "def chunk_text(documents, chunk_size=512, chunk_overlap=50):\n",
        "    \"\"\"Splits extracted text into manageable chunks.\"\"\"\n",
        "    text_splitter = RecursiveCharacterTextSplitter(chunk_size=chunk_size, chunk_overlap=chunk_overlap)\n",
        "\n",
        "    chunks = []\n",
        "    for doc in documents:\n",
        "        text_chunks = text_splitter.split_text(doc[\"text\"])\n",
        "        for chunk in text_chunks:\n",
        "            chunks.append({\"filename\": doc[\"filename\"], \"chunk\": chunk})\n",
        "\n",
        "    return chunks\n",
        "chunks = chunk_text(documents)\n",
        "print(f\"Generated {len(chunks)} text chunks\")"
      ],
      "metadata": {
        "id": "Dam0ZfBZ3kcl",
        "colab": {
          "base_uri": "https://localhost:8080/"
        },
        "outputId": "3ca64b6c-70a9-4176-e1dd-b30d42f5623f"
      },
      "execution_count": null,
      "outputs": [
        {
          "output_type": "stream",
          "name": "stdout",
          "text": [
            "Generated 2875 text chunks\n"
          ]
        }
      ]
    },
    {
      "cell_type": "code",
      "source": [
        "chunks[0]"
      ],
      "metadata": {
        "id": "mIiEY7FI3p9Q",
        "colab": {
          "base_uri": "https://localhost:8080/"
        },
        "outputId": "cbc9dc6d-78a9-4bd2-9cf5-d72fbdb3c5e3"
      },
      "execution_count": null,
      "outputs": [
        {
          "output_type": "execute_result",
          "data": {
            "text/plain": [
              "Document(metadata={'source': '/content/drive/MyDrive/CPSC_5830_Capstone/Code/data_rag/LLC_COF.pdf', 'page': 0, 'page_label': 'Page 1', 'id': '/content/drive/MyDrive/CPSC_5830_Capstone/Code/data_rag/LLC_COF.pdf:0:0'}, page_content='Certificate of Formation-LLC  Washington Secretary of State Revised 10.2023 \\n \\n \\n \\n \\n \\n \\n \\n \\n \\n \\n \\nINSTRUCTIONS: CERTIFICATE OF FORMATION OF A LIMITED LIABILITY COMPANY RCW 23.95 \\nand 25.15 \\n \\nPurpose: Certificate of Formation for a Limited Liability Company governed by RCW 25.15 is used to create a new business entity \\nthat has not previously been registered with the Office of the Secretary of State; or is beyond its five (5) year reinstatement period.  \\n \\nGeneral Instructions: Use dark ink only. Complete the entire form and enter all requested information in the fields provided. At our \\nwebsite www.sos.wa.gov/corporations  a fillable .pdf version of this form is available or you can file online at https://ccfs.sos.wa.gov')"
            ]
          },
          "metadata": {},
          "execution_count": 24
        }
      ]
    },
    {
      "cell_type": "markdown",
      "source": [
        "### BEST: Version 2"
      ],
      "metadata": {
        "id": "m5_5M2rq3q1h"
      }
    },
    {
      "cell_type": "code",
      "source": [
        "def split_documents(documents: list[Document]):\n",
        "    text_splitter = RecursiveCharacterTextSplitter(\n",
        "        chunk_size=800,\n",
        "        chunk_overlap=80,\n",
        "        length_function=len,\n",
        "        is_separator_regex=False,\n",
        "    )\n",
        "    return text_splitter.split_documents(documents)\n",
        "\n",
        "chunks = split_documents(doc)\n",
        "chunks[0]"
      ],
      "metadata": {
        "id": "2fOg08gU3qAQ",
        "colab": {
          "base_uri": "https://localhost:8080/"
        },
        "outputId": "ad0be797-0424-49fa-c8f8-41838f741758"
      },
      "execution_count": null,
      "outputs": [
        {
          "output_type": "execute_result",
          "data": {
            "text/plain": [
              "Document(metadata={'source': '/content/drive/MyDrive/CPSC_5830_Capstone/Code/data_rag/LLC_COF.pdf', 'page': 0, 'page_label': 'Page 1'}, page_content='Certificate of Formation-LLC  Washington Secretary of State Revised 10.2023 \\n \\n \\n \\n \\n \\n \\n \\n \\n \\n \\n \\nINSTRUCTIONS: CERTIFICATE OF FORMATION OF A LIMITED LIABILITY COMPANY RCW 23.95 \\nand 25.15 \\n \\nPurpose: Certificate of Formation for a Limited Liability Company governed by RCW 25.15 is used to create a new business entity \\nthat has not previously been registered with the Office of the Secretary of State; or is beyond its five (5) year reinstatement period.  \\n \\nGeneral Instructions: Use dark ink only. Complete the entire form and enter all requested information in the fields provided. At our \\nwebsite www.sos.wa.gov/corporations  a fillable .pdf version of this form is available or you can file online at https://ccfs.sos.wa.gov')"
            ]
          },
          "metadata": {},
          "execution_count": 12
        }
      ]
    },
    {
      "cell_type": "code",
      "source": [
        "len(chunks)"
      ],
      "metadata": {
        "id": "Pd-gGOoX5gb2",
        "colab": {
          "base_uri": "https://localhost:8080/"
        },
        "outputId": "8af108d8-408d-4f4e-8b26-a7a21b80d641"
      },
      "execution_count": null,
      "outputs": [
        {
          "output_type": "execute_result",
          "data": {
            "text/plain": [
              "2053"
            ]
          },
          "metadata": {},
          "execution_count": 13
        }
      ]
    },
    {
      "cell_type": "markdown",
      "source": [
        "# **3. Embeddings**\n"
      ],
      "metadata": {
        "id": "jSM73ePX2MFB"
      }
    },
    {
      "cell_type": "code",
      "source": [
        "# https://python.langchain.com/api_reference/community/embeddings.html <- list of all embeddings models we can use from\n",
        "from langchain_community.embeddings.ollama import OllamaEmbeddings\n",
        "from langchain_community.embeddings.bedrock import BedrockEmbeddings # <- this does not exist anymore\n",
        "from langchain_community.embeddings import GPT4AllEmbeddings\n",
        "\n",
        "def get_embedding_function():\n",
        "  model_name = \"all-MiniLM-L6-v2.gguf2.f16.gguf\"\n",
        "  gpt4all_kwargs = {'allow_download': 'True'}\n",
        "  embeddings = GPT4AllEmbeddings(\n",
        "      model_name=model_name,\n",
        "      gpt4all_kwargs=gpt4all_kwargs\n",
        "  )\n",
        "  return embeddings"
      ],
      "metadata": {
        "id": "GsiG_DQC2PTy"
      },
      "execution_count": null,
      "outputs": []
    },
    {
      "cell_type": "markdown",
      "source": [
        "# **4. Store Embeddings in Vector Database**"
      ],
      "metadata": {
        "id": "waITNtAT3FoA"
      }
    },
    {
      "cell_type": "markdown",
      "source": [
        "### BEST: Version 1 Chroma runs in-memory"
      ],
      "metadata": {
        "id": "7tTn2proGC_H"
      }
    },
    {
      "cell_type": "markdown",
      "source": [
        "Adding 1643 chunks of size 800 took 2GB of RAM (~5 min to run)"
      ],
      "metadata": {
        "id": "arQTf87HLYHQ"
      }
    },
    {
      "cell_type": "code",
      "source": [
        "# Use ChromaDB as in-memory vectore storage\n",
        "\n",
        "def add_to_chroma(chunks: list[Document]):\n",
        "    # Load the database in-memory.\n",
        "    db = Chroma(embedding_function=get_embedding_function())\n",
        "\n",
        "    # Calculate Page IDs.\n",
        "    chunks_with_ids = calculate_chunk_ids(chunks)\n",
        "\n",
        "    # Add or Update the documents.\n",
        "    existing_items = db.get(include=[])  # IDs are always included by default\n",
        "    existing_ids = set(existing_items[\"ids\"])\n",
        "    print(f\"Number of existing documents in DB: {len(existing_ids)}\")\n",
        "\n",
        "    # Only add documents that don't exist in the DB.\n",
        "    new_chunks = []\n",
        "    for chunk in chunks_with_ids:\n",
        "        if chunk.metadata[\"id\"] not in existing_ids:\n",
        "            new_chunks.append(chunk)\n",
        "\n",
        "    if len(new_chunks):\n",
        "        print(f\"Adding new documents: {len(new_chunks)}\")\n",
        "        new_chunk_ids = [chunk.metadata[\"id\"] for chunk in new_chunks]\n",
        "        db.add_documents(new_chunks, ids=new_chunk_ids)\n",
        "    else:\n",
        "        print(\"No new documents to add\")\n",
        "\n",
        "def calculate_chunk_ids(chunks):\n",
        "\n",
        "    # This will create IDs like \"data/monopoly.pdf:6:2\"\n",
        "    # Page Source : Page Number : Chunk Index\n",
        "\n",
        "    last_page_id = None\n",
        "    current_chunk_index = 0\n",
        "\n",
        "    for chunk in chunks:\n",
        "        source = chunk.metadata.get(\"source\")\n",
        "        page = chunk.metadata.get(\"page\")\n",
        "        current_page_id = f\"{source}:{page}\"\n",
        "\n",
        "        # If the page ID is the same as the last one, increment the index.\n",
        "        if current_page_id == last_page_id:\n",
        "            current_chunk_index += 1\n",
        "        else:\n",
        "            current_chunk_index = 0\n",
        "\n",
        "        # Calculate the chunk ID.\n",
        "        chunk_id = f\"{current_page_id}:{current_chunk_index}\"\n",
        "        last_page_id = current_page_id\n",
        "\n",
        "        # Add it to the page meta-data.\n",
        "        chunk.metadata[\"id\"] = chunk_id\n",
        "\n",
        "    return chunks\n",
        "\n"
      ],
      "metadata": {
        "id": "suvSnC583Hhm"
      },
      "execution_count": null,
      "outputs": []
    },
    {
      "cell_type": "code",
      "source": [
        "add_to_chroma(chunks)"
      ],
      "metadata": {
        "id": "Dsud_zg9F_Hv",
        "colab": {
          "base_uri": "https://localhost:8080/"
        },
        "outputId": "85435ac1-960f-4afd-f27c-d8018f3bdcaf"
      },
      "execution_count": null,
      "outputs": [
        {
          "output_type": "stream",
          "name": "stderr",
          "text": [
            "Downloading: 100%|██████████| 45.9M/45.9M [00:01<00:00, 39.4MiB/s]\n",
            "Verifying: 100%|██████████| 45.9M/45.9M [00:00<00:00, 339MiB/s]\n",
            "<ipython-input-15-a57aed5366d9>:5: LangChainDeprecationWarning: The class `Chroma` was deprecated in LangChain 0.2.9 and will be removed in 1.0. An updated version of the class exists in the :class:`~langchain-chroma package and should be used instead. To use it run `pip install -U :class:`~langchain-chroma` and import as `from :class:`~langchain_chroma import Chroma``.\n",
            "  db = Chroma(embedding_function=get_embedding_function())\n"
          ]
        },
        {
          "output_type": "stream",
          "name": "stdout",
          "text": [
            "Number of existing documents in DB: 0\n",
            "Adding new documents: 2053\n"
          ]
        }
      ]
    },
    {
      "cell_type": "code",
      "source": [
        "import numpy as np\n",
        "import matplotlib.pyplot as plt\n",
        "\n",
        "def plot_chunk_sizes(db):\n",
        "    \"\"\"\n",
        "    Plots the distribution of chunk sizes stored in ChromaDB.\n",
        "\n",
        "    Parameters:\n",
        "    - db: Chroma database instance\n",
        "    \"\"\"\n",
        "    # Retrieve all stored documents from ChromaDB\n",
        "    all_items = db.get(include=['documents'])\n",
        "    all_texts = all_items['documents']  # Extract all stored text chunks\n",
        "\n",
        "    # Compute chunk sizes (length of text in characters)\n",
        "    chunk_sizes = [len(text) for text in all_texts]\n",
        "\n",
        "    # Plot histogram of chunk sizes\n",
        "    plt.figure(figsize=(10, 6))\n",
        "    plt.hist(chunk_sizes, bins=30, color='blue', alpha=0.7, edgecolor='black')\n",
        "    plt.title(\"Distribution of Chunk Sizes in ChromaDB\")\n",
        "    plt.xlabel(\"Chunk Size (Number of Characters)\")\n",
        "    plt.ylabel(\"Frequency\")\n",
        "    plt.grid()\n",
        "    plt.show()\n",
        "\n",
        "# Example usage:\n",
        "plot_chunk_sizes(db)\n"
      ],
      "metadata": {
        "colab": {
          "base_uri": "https://localhost:8080/",
          "height": 564
        },
        "id": "CAeaF_izl-_l",
        "outputId": "c46757d6-2d2e-4c5a-a122-99c05f26db1f"
      },
      "execution_count": null,
      "outputs": [
        {
          "output_type": "display_data",
          "data": {
            "text/plain": [
              "<Figure size 1000x600 with 1 Axes>"
            ],
            "image/png": "[encoded data removed]"
          },
          "metadata": {}
        }
      ]
    },
    {
      "cell_type": "markdown",
      "source": [
        "### Version 2 Chroma as a persistent vector database"
      ],
      "metadata": {
        "id": "JcRke6ILF_on"
      }
    },
    {
      "cell_type": "code",
      "source": [
        "# Use ChromaDB as Chroma as a persistent vector database\n",
        "\n",
        "def add_to_chroma(chunks: list[Document]):\n",
        "    # Load the existing database.\n",
        "    db = Chroma(\n",
        "        persist_directory=CHROMA_PATH, embedding_function=get_embedding_function()\n",
        "    )\n",
        "\n",
        "    # Calculate Page IDs.\n",
        "    chunks_with_ids = calculate_chunk_ids(chunks)\n",
        "\n",
        "    # Add or Update the documents.\n",
        "    existing_items = db.get(include=[])  # IDs are always included by default\n",
        "    existing_ids = set(existing_items[\"ids\"])\n",
        "    print(f\"Number of existing documents in DB: {len(existing_ids)}\")\n",
        "\n",
        "    # Only add documents that don't exist in the DB.\n",
        "    new_chunks = []\n",
        "    for chunk in chunks_with_ids:\n",
        "        if chunk.metadata[\"id\"] not in existing_ids:\n",
        "            new_chunks.append(chunk)\n",
        "\n",
        "    if len(new_chunks):\n",
        "        print(f\"Adding new documents: {len(new_chunks)}\")\n",
        "        new_chunk_ids = [chunk.metadata[\"id\"] for chunk in new_chunks]\n",
        "        db.add_documents(new_chunks, ids=new_chunk_ids)\n",
        "        db.persist()\n",
        "    else:\n",
        "        print(\"No new documents to add\")\n",
        "\n",
        "\n",
        "def calculate_chunk_ids(chunks):\n",
        "\n",
        "    # This will create IDs like \"data/monopoly.pdf:6:2\"\n",
        "    # Page Source : Page Number : Chunk Index\n",
        "\n",
        "    last_page_id = None\n",
        "    current_chunk_index = 0\n",
        "\n",
        "    for chunk in chunks:\n",
        "        source = chunk.metadata.get(\"source\")\n",
        "        page = chunk.metadata.get(\"page\")\n",
        "        current_page_id = f\"{source}:{page}\"\n",
        "\n",
        "        # If the page ID is the same as the last one, increment the index.\n",
        "        if current_page_id == last_page_id:\n",
        "            current_chunk_index += 1\n",
        "        else:\n",
        "            current_chunk_index = 0\n",
        "\n",
        "        # Calculate the chunk ID.\n",
        "        chunk_id = f\"{current_page_id}:{current_chunk_index}\"\n",
        "        last_page_id = current_page_id\n",
        "\n",
        "        # Add it to the page meta-data.\n",
        "        chunk.metadata[\"id\"] = chunk_id\n",
        "\n",
        "    return chunks\n",
        "\n",
        "\n",
        "def clear_database():\n",
        "    if os.path.exists(CHROMA_PATH):\n",
        "        shutil.rmtree(CHROMA_PATH)"
      ],
      "metadata": {
        "id": "LvEC12iT3Hl8"
      },
      "execution_count": null,
      "outputs": []
    },
    {
      "cell_type": "code",
      "source": [
        "add_to_chroma(chunks)"
      ],
      "metadata": {
        "id": "1RDHXNzaM4p0",
        "colab": {
          "base_uri": "https://localhost:8080/"
        },
        "outputId": "62c7b727-cdd3-45b0-9d84-09bacf5b9eaf"
      },
      "execution_count": null,
      "outputs": [
        {
          "output_type": "stream",
          "name": "stdout",
          "text": [
            "Number of existing documents in DB: 2053\n",
            "No new documents to add\n"
          ]
        }
      ]
    },
    {
      "cell_type": "markdown",
      "source": [
        "# **5. Retrieve Relevant Chunks**"
      ],
      "metadata": {
        "id": "IokDHrpVQVjp"
      }
    },
    {
      "cell_type": "markdown",
      "source": [
        "From one of the pdf files:\n",
        "0. \"What unexpected events can close my business?\"\n",
        "\n",
        "\"Unexpected events, such as fires, floods, storms and earthquakes, could\n",
        "damage or destroy your records, damage critical equipment, or close your\n",
        "business for a period of time.\""
      ],
      "metadata": {
        "id": "Oe2tXjR9OnjI"
      }
    },
    {
      "cell_type": "markdown",
      "source": [
        "1. \"What is a Charitable Organization according to the WA Secretary of State?\"\n",
        "\n",
        "Answer: A Charitable Organization is anyone asking or collecting contributions from the public and claims it will be used to support a charitable activity. Charitable activities include educational, recreational, social, patriotic, legal defense, benevolent, or health causes."
      ],
      "metadata": {
        "id": "ENYqNXsZTuWD"
      }
    },
    {
      "cell_type": "markdown",
      "source": [
        "2. What is the difference between a Nonprofit Corporation and a Charitable Organization?\n",
        "\n",
        "Answer: A Nonprofit Corporation is an entity recognized by Washington State when \"Nonprofit Articles of Incorporation\" are filed with the Corporations Division. A Charitable Organization is any entity or individual fundraising in Washington for charitable activities, regardless of corporate status."
      ],
      "metadata": {
        "id": "TzFQ4mbmV0OJ"
      }
    },
    {
      "cell_type": "code",
      "source": [
        "db"
      ],
      "metadata": {
        "id": "cSD-IlXy-wGG",
        "outputId": "8bb48396-dd73-417c-c412-4da0b88a9be9",
        "colab": {
          "base_uri": "https://localhost:8080/"
        }
      },
      "execution_count": null,
      "outputs": [
        {
          "output_type": "execute_result",
          "data": {
            "text/plain": [
              "<langchain_community.vectorstores.chroma.Chroma at 0x7a8b045082d0>"
            ]
          },
          "metadata": {},
          "execution_count": 7
        }
      ]
    },
    {
      "cell_type": "code",
      "source": [
        "# Retrieve top-k relevant documents\n",
        "\n",
        "query_text = \"I want to start a business to sell coffee beans, what are my restrictions?\"\n",
        "\n",
        "# Prepare the DB.\n",
        "embedding_function = get_embedding_function()\n",
        "db = Chroma(embedding_function=embedding_function) # in-memory db\n",
        "db = Chroma(persist_directory=CHROMA_PATH, embedding_function=embedding_function) # persistent db\n",
        "\n",
        "# Search the DB.\n",
        "results = db.similarity_search_with_score(query_text, k=5) # ChromaDB is Cosine Similarity by default\n",
        "\n",
        "context_text = \"\\n\\n---\\n\\n\".join([doc.page_content for doc, _score in results])\n",
        "context_text"
      ],
      "metadata": {
        "id": "-DeuK7C1OJNJ",
        "colab": {
          "base_uri": "https://localhost:8080/",
          "height": 229
        },
        "outputId": "17a2ea45-7378-43b9-b03a-42741f487f2f"
      },
      "execution_count": null,
      "outputs": [
        {
          "output_type": "stream",
          "name": "stderr",
          "text": [
            "Downloading: 100%|██████████| 45.9M/45.9M [00:00<00:00, 79.2MiB/s]\n",
            "Verifying: 100%|██████████| 45.9M/45.9M [00:00<00:00, 392MiB/s]\n",
            "<ipython-input-6-104b1cf9f379>:7: LangChainDeprecationWarning: The class `Chroma` was deprecated in LangChain 0.2.9 and will be removed in 1.0. An updated version of the class exists in the :class:`~langchain-chroma package and should be used instead. To use it run `pip install -U :class:`~langchain-chroma` and import as `from :class:`~langchain_chroma import Chroma``.\n",
            "  db = Chroma(embedding_function=embedding_function) # in-memory db\n"
          ]
        },
        {
          "output_type": "execute_result",
          "data": {
            "text/plain": [
              "'Apply for a business license\\nRegistration requirements\\nRegister with the Department of Revenue and get a\\nbusiness license if you meet any of the following\\nconditions:\\nYour business requires city, county, and state\\nendorsements.\\nYou are doing business using a name other than\\nyour full name legal name.\\nYou plan to hire employees within the next 90 days.\\nYou sell a product or provide a service that requires\\nthe collection of sales tax.\\nYour gross income is $12,000 per year or more.\\nYour business is required to pay taxes or fees to the\\nDepartment of Revenue.\\nYou are a buyer or processor of specialty wood\\nproducts.\\nYour business meets Nexus threshold reporting\\nrequirements.\\nApply for a business license\\nIf your business structure will be one of the following,\\n\\n---\\n\\nrequirements, contact the licensing authority for that profession.  \\n• Food-related businesses (such as restaurants, coffee stands, caterers, food \\nproduct manufacturers, etc.) will need kitchen and food handler permits. Contact \\nyour county health department. Food and beverage manufacturers and \\nprocessors will need licensing from the Washington Department of Agriculture. \\nIf you plan to sell, serve, or produce alcoholic beverages, contact the \\nWashington State Liquor and Cannabis Board to find out what kind of license \\nyou need to apply for.  For cannabis-infused products, you will need a cannabis \\nlicense.  Contact the Business Licensing Service for more information on how to \\napply. For help opening a restaurant in Seattle, visit the Seattle restaurant site.\\n\\n---\\n\\nrequirements, contact the licensing authority for that profession. \\n• Food-related businesses (restaurants, coffee stands, caterers, food product \\nmanufacturers, etc.) will need kitchen and food handler permits. Contact your \\ncounty health department. Food and beverage manufacturers and processors \\nwill need licensing from the Washington Department of Agriculture. If you plan \\nto sell, serve, or produce alcoholic beverages, contact the Washington State \\nLiquor and Cannabis Board to find out what kind of license you need to apply \\nfor.  For cannabis-infused products, you will need a cannabis license.  Contact \\nthe Business Licensing Service for more information on how to apply. For help \\nopening a restaurant in Seattle, visit the Seattle restaurant site.\\n\\n---\\n\\n82.24.295 for wholesalers and retailers for their services in affixing \\nthe stamps required under chapter 82.24 RCW. For purposes of this \\nsection, \"wholesaler,\" \"retailer,\" and \"stamp\" have the same meaning \\nas in chapter 82.24 RCW.  [2007 c 221 s 5.]\\nRCW 82.04.610  Exemptions— Import or export commerce.  (1) This \\nchapter does not apply to:\\n(a) The sale of tangible personal property in export commerce; \\nand\\n(b) The wholesale sale of tangible personal property in import \\ncommerce, but only when the wholesale sale is:\\n(i) A sale of unroasted coffee beans; or\\n(ii) Between a parent company and its wholly owned subsidiary.\\n(2) Tangible personal property is in import commerce while the \\nproperty is in the process of import transportation. Except as\\n\\n---\\n\\n82.04.327 Exemptions—Adult family homes.\\n82.04.330 Exemptions—Sales of agricultural products.\\n82.04.331 Exemptions—Wholesale sales to farmers of seed for \\nplanting, conditioning seed for planting owned by \\nothers.\\n82.04.332 Exemptions—Buying and selling at wholesale unprocessed \\nmilk, wheat, oats, dry peas, dry beans, lentils, \\ntriticale, canola, corn, rye, and barley.\\n82.04.333 Exemptions—Small harvesters.\\n82.04.334 Exemptions—Standing timber.\\n82.04.335 Exemptions—Agricultural fairs.\\n82.04.337 Exemptions—Amounts received by hop growers or dealers \\nfor processed hops shipped outside the state.\\n82.04.338 Exemptions—Hop commodity commission or hop commodity \\nboard business.\\n82.04.339 Exemptions—Day care provided by churches.'"
            ],
            "application/vnd.google.colaboratory.intrinsic+json": {
              "type": "string"
            }
          },
          "metadata": {},
          "execution_count": 6
        }
      ]
    },
    {
      "cell_type": "code",
      "source": [
        "import numpy as np\n",
        "import matplotlib.pyplot as plt\n",
        "from sklearn.manifold import TSNE\n",
        "\n",
        "def visualize_all_embeddings(db, results):\n",
        "    \"\"\"\n",
        "    Plots all embeddings stored in ChromaDB, highlighting retrieved embeddings.\n",
        "\n",
        "    Parameters:\n",
        "    - db: Chroma database instance\n",
        "    - results: List of tuples (Document, score) from similarity search\n",
        "    \"\"\"\n",
        "    # Retrieve all stored embeddings from ChromaDB\n",
        "    all_items = db.get(include=['embeddings', 'documents'])  # Get all stored embeddings\n",
        "    all_embeddings = np.array(all_items['embeddings'])  # Convert to NumPy array\n",
        "    all_texts = all_items['documents']  # Get associated texts\n",
        "\n",
        "    # Extract embeddings for retrieved chunks\n",
        "    retrieved_texts = [doc.page_content for doc, _ in results]\n",
        "\n",
        "    # Find indices of retrieved chunks in all stored documents\n",
        "    retrieved_indices = [all_texts.index(text) for text in retrieved_texts if text in all_texts]\n",
        "\n",
        "    # Reduce dimensions using t-SNE\n",
        "    tsne = TSNE(n_components=2, random_state=42, perplexity=min(len(all_embeddings)-1, 30))\n",
        "    all_embeddings_2d = tsne.fit_transform(all_embeddings)\n",
        "\n",
        "    # Map retrieved embeddings to the reduced space\n",
        "    retrieved_2d = all_embeddings_2d[retrieved_indices]\n",
        "\n",
        "    # Plot all stored embeddings\n",
        "    plt.figure(figsize=(10, 6))\n",
        "    plt.scatter(all_embeddings_2d[:, 0], all_embeddings_2d[:, 1], color='blue', alpha=0.5, label=\"All Stored Embeddings\")\n",
        "\n",
        "    # Highlight retrieved embeddings\n",
        "    plt.scatter(retrieved_2d[:, 0], retrieved_2d[:, 1], color='red', label=\"Retrieved Embeddings\", edgecolors='black')\n",
        "\n",
        "    # Annotate retrieved points\n",
        "    for i, text in enumerate(retrieved_texts):\n",
        "        plt.annotate(f\"Chunk {i+1}\", (retrieved_2d[i, 0], retrieved_2d[i, 1]), fontsize=10)\n",
        "\n",
        "    plt.title(\"t-SNE Visualization of All Stored and Retrieved Embeddings\")\n",
        "    plt.xlabel(\"Dimension 1\")\n",
        "    plt.ylabel(\"Dimension 2\")\n",
        "    plt.legend()\n",
        "    plt.grid()\n",
        "    plt.show()\n",
        "\n",
        "# Example usage:\n",
        "visualize_all_embeddings(db, results)\n"
      ],
      "metadata": {
        "colab": {
          "base_uri": "https://localhost:8080/",
          "height": 564
        },
        "id": "VS6CKeipk8SJ",
        "outputId": "812c09cd-7ddc-4b62-ff77-1eac18350580"
      },
      "execution_count": null,
      "outputs": [
        {
          "output_type": "display_data",
          "data": {
            "text/plain": [
              "<Figure size 1000x600 with 1 Axes>"
            ],
            "image/png": "[encoded data removed]"
          },
          "metadata": {}
        }
      ]
    },
    {
      "cell_type": "markdown",
      "source": [
        "# **6. Testing RAG**"
      ],
      "metadata": {
        "id": "qGn5YV00Nptq"
      }
    },
    {
      "cell_type": "markdown",
      "source": [
        "From one of the pdf files:\n",
        "1. \"What unexpected events can close my business?\"\n",
        "\n",
        "Answer: \"Unexpected events, such as fires, floods, storms and earthquakes, could\n",
        "damage or destroy your records, damage critical equipment, or close your\n",
        "business for a period of time.\"\n",
        "\n",
        "2. What is the difference between a Nonprofit Corporation and a Charitable Organization?\n",
        "\n",
        "Answer: A Nonprofit Corporation is an entity recognized by Washington State when \"Nonprofit Articles of Incorporation\" are filed with the Corporations Division. A Charitable Organization is any entity or individual fundraising in Washington for charitable activities, regardless of corporate status"
      ],
      "metadata": {
        "id": "fcQsFdB5YNmc"
      }
    },
    {
      "cell_type": "markdown",
      "source": [
        "### Question 1:"
      ],
      "metadata": {
        "id": "4GJ67i77qayN"
      }
    },
    {
      "cell_type": "code",
      "source": [
        "import google.generativeai as genai\n",
        "from google.colab import userdata\n",
        "\n",
        "query_text = \"What unexpected events can close my business?\"\n",
        "\n",
        "GOOGLE_API_KEY=userdata.get('GOOGLE_API_KEY')\n",
        "genai.configure(api_key=GOOGLE_API_KEY)\n",
        "\n",
        "model = genai.GenerativeModel(\"gemini-pro\")\n",
        "response = model.generate_content(query_text)\n",
        "print(response.text)"
      ],
      "metadata": {
        "id": "8O_7YvsjNwGy"
      },
      "execution_count": null,
      "outputs": []
    },
    {
      "cell_type": "code",
      "source": [
        "PROMPT_TEMPLATE = \"\"\"User Question: {question}\\n\\nContext: {context}\\n\\nAnswer:\"\"\"\n",
        "\n",
        "def query_rag(query_text: str):\n",
        "    # Prepare the DB.\n",
        "    embedding_function = get_embedding_function()\n",
        "    db = Chroma(embedding_function=embedding_function) # in-memory db\n",
        "    db = Chroma(persist_directory=CHROMA_PATH, embedding_function=embedding_function) # persistent db\n",
        "\n",
        "    # Search the DB.\n",
        "    results = db.similarity_search_with_score(query_text, k=5)\n",
        "\n",
        "    context_text = \"\\n\\n---\\n\\n\".join([doc.page_content for doc, _score in results])\n",
        "    prompt_template = ChatPromptTemplate.from_template(PROMPT_TEMPLATE)\n",
        "    prompt = prompt_template.format(context=context_text, question=query_text)\n",
        "\n",
        "    # Use Google's Gemini API\n",
        "    model = genai.GenerativeModel(\"gemini-pro\")\n",
        "    response = model.generate_content(prompt)\n",
        "\n",
        "    response_text = response.text\n",
        "    sources = [doc.metadata.get(\"id\", None) for doc, _score in results]\n",
        "\n",
        "    formatted_response = f\"Response: {response_text}\\nSources: {sources}\"\n",
        "    print(formatted_response)\n",
        "    return response_text\n",
        "\n",
        "query_rag(query_text)"
      ],
      "metadata": {
        "id": "o-AppqBRR5CD",
        "colab": {
          "base_uri": "https://localhost:8080/"
        },
        "outputId": "108d142c-4dd3-4be4-9889-2f01ef546a06"
      },
      "execution_count": null,
      "outputs": [
        {
          "output_type": "stream",
          "name": "stdout",
          "text": [
            "Response: - Fires\n",
            "- Floods\n",
            "- Storms\n",
            "- Earthquakes\n",
            "Sources: ['/content/drive/MyDrive/CPSC_5830_Capstone/Code/data_rag/small_business_guide.pdf:73:1', '/content/drive/MyDrive/CPSC_5830_Capstone/Code/data_rag/small_business_guide.pdf:73:2', '/content/drive/MyDrive/CPSC_5830_Capstone/Code/data_rag/small_business_guide.pdf:92:0', '/content/drive/MyDrive/CPSC_5830_Capstone/Code/data_rag/small_business_guide.pdf:86:0', '/content/drive/MyDrive/CPSC_5830_Capstone/Code/data_rag/small_business_guide.pdf:86:1']\n"
          ]
        },
        {
          "output_type": "execute_result",
          "data": {
            "text/plain": [
              "'- Fires\\n- Floods\\n- Storms\\n- Earthquakes'"
            ],
            "application/vnd.google.colaboratory.intrinsic+json": {
              "type": "string"
            }
          },
          "metadata": {},
          "execution_count": 21
        }
      ]
    },
    {
      "cell_type": "markdown",
      "source": [
        "### Question 2."
      ],
      "metadata": {
        "id": "XMMEUCPUqXO8"
      }
    },
    {
      "cell_type": "code",
      "source": [
        "import google.generativeai as genai\n",
        "from google.colab import userdata\n",
        "\n",
        "query_text = \"What is the difference between a Nonprofit Corporation and a Charitable Organization?\"\n",
        "\n",
        "GOOGLE_API_KEY=userdata.get('GOOGLE_API_KEY')\n",
        "genai.configure(api_key=GOOGLE_API_KEY)\n",
        "\n",
        "model = genai.GenerativeModel(\"gemini-pro\")\n",
        "response = model.generate_content(query_text)\n",
        "print(response.text)"
      ],
      "metadata": {
        "colab": {
          "base_uri": "https://localhost:8080/"
        },
        "id": "qDEelJZ2p6PY",
        "outputId": "0e4d424f-8681-4a55-e2f9-e7b2cac623a6"
      },
      "execution_count": null,
      "outputs": [
        {
          "output_type": "stream",
          "name": "stdout",
          "text": [
            "**Nonprofit Corporation**\n",
            "\n",
            "* A legal entity that is organized for a non-profit purpose, such as education, charity, or religion.\n",
            "* Does not distribute profits to its members or shareholders.\n",
            "* May engage in commercial activities related to its mission.\n",
            "* May or may not be tax-exempt.\n",
            "\n",
            "**Charitable Organization**\n",
            "\n",
            "* A type of nonprofit corporation that is organized primarily for charitable purposes.\n",
            "* Receives most of its funding from public or private donations or grants.\n",
            "* Is exempt from federal income tax under Section 501(c)(3) of the Internal Revenue Code.\n",
            "* Must meet certain requirements, such as having a public benefit purpose, not benefiting private individuals, and operating exclusively for charitable purposes.\n",
            "\n",
            "**Key Differences**\n",
            "\n",
            "* **Primary Purpose:** A nonprofit corporation has a general non-profit purpose, while a charitable organization has a specific charitable purpose.\n",
            "* **Tax Exemption:** Charitable organizations are typically exempt from federal income tax, while nonprofit corporations may or may not be.\n",
            "* **Funding:** Charitable organizations rely heavily on donations and grants, while nonprofit corporations may have a broader range of funding sources.\n",
            "* **Regulation:** Charitable organizations are subject to additional regulations and disclosure requirements due to their tax-exempt status.\n",
            "\n",
            "**Similarities**\n",
            "\n",
            "* Both are legal entities that are not organized for profit.\n",
            "* Both can engage in activities that support their mission.\n",
            "* Both may receive grants and donations from individuals and organizations.\n",
            "\n",
            "In summary, a charitable organization is a specific type of nonprofit corporation that is organized for exclusively charitable purposes and is granted tax exemption.\n"
          ]
        }
      ]
    },
    {
      "cell_type": "code",
      "source": [
        "PROMPT_TEMPLATE = \"\"\"User Question: {question}\\n\\nContext: {context}\\n\\nAnswer:\"\"\"\n",
        "\n",
        "def query_rag(query_text: str):\n",
        "    # Prepare the DB.\n",
        "    embedding_function = get_embedding_function()\n",
        "    db = Chroma(embedding_function=embedding_function) # in-memory db\n",
        "    db = Chroma(persist_directory=CHROMA_PATH, embedding_function=embedding_function) # persistent db\n",
        "\n",
        "    # Search the DB.\n",
        "    results = db.similarity_search_with_score(query_text, k=5)\n",
        "\n",
        "    context_text = \"\\n\\n---\\n\\n\".join([doc.page_content for doc, _score in results])\n",
        "    prompt_template = ChatPromptTemplate.from_template(PROMPT_TEMPLATE)\n",
        "    prompt = prompt_template.format(context=context_text, question=query_text)\n",
        "\n",
        "    # Use Google's Gemini API\n",
        "    model = genai.GenerativeModel(\"gemini-pro\")\n",
        "    response = model.generate_content(prompt)\n",
        "\n",
        "    response_text = response.text\n",
        "    sources = [doc.metadata.get(\"id\", None) for doc, _score in results]\n",
        "\n",
        "    formatted_response = f\"Response: {response_text}\\nSources: {sources}\"\n",
        "    print(formatted_response)\n",
        "    return response_text\n",
        "\n",
        "query_rag(query_text)"
      ],
      "metadata": {
        "colab": {
          "base_uri": "https://localhost:8080/"
        },
        "id": "gaxX5UWJp9R0",
        "outputId": "a95bc58f-5953-432b-e8d5-8ab9c3cae63f"
      },
      "execution_count": null,
      "outputs": [
        {
          "output_type": "stream",
          "name": "stdout",
          "text": [
            "Response: A Nonprofit Corporation is an entity recognized by the state of Washington when “Nonprofit\n",
            "Articles of Incorporation” are filed with the Corporations Division of the Secretary of State. A\n",
            "charitable organization is any individual or entity, (regardless of corporate status) that\n",
            "fundraises in Washington to support a charitable activity.\n",
            "Sources: ['/content/drive/MyDrive/CPSC_5830_Capstone/Code/data_rag/Frequently Asked Questions by Donors _ WA Secretary of State.pdf:2:0', '/content/drive/MyDrive/CPSC_5830_Capstone/Code/data_rag/Nonprofit organizations _ Washington Department of Revenue.pdf:0:1', '/content/drive/MyDrive/CPSC_5830_Capstone/Code/data_rag/Nonprofit organizations _ Washington Department of Revenue.pdf:0:0', '/content/drive/MyDrive/CPSC_5830_Capstone/Code/data_rag/RCW 82.04.pdf:138:1', '/content/drive/MyDrive/CPSC_5830_Capstone/Code/data_rag/Choose an ownership structure _ Washington Department of Revenue.pdf:3:0']\n"
          ]
        },
        {
          "output_type": "execute_result",
          "data": {
            "text/plain": [
              "'A Nonprofit Corporation is an entity recognized by the state of Washington when “Nonprofit\\nArticles of Incorporation” are filed with the Corporations Division of the Secretary of State. A\\ncharitable organization is any individual or entity, (regardless of corporate status) that\\nfundraises in Washington to support a charitable activity.'"
            ],
            "application/vnd.google.colaboratory.intrinsic+json": {
              "type": "string"
            }
          },
          "metadata": {},
          "execution_count": 23
        }
      ]
    },
    {
      "cell_type": "markdown",
      "source": [
        "### Question 3:"
      ],
      "metadata": {
        "id": "gLgTzpAVe9Qr"
      }
    },
    {
      "cell_type": "code",
      "source": [
        "import google.generativeai as genai\n",
        "from google.colab import userdata\n",
        "\n",
        "query_text = \"I want to start a business to sell coffee beans, what are my restrictions?\"\n",
        "\n",
        "GOOGLE_API_KEY=userdata.get('GOOGLE_API_KEY')\n",
        "genai.configure(api_key=GOOGLE_API_KEY)\n",
        "\n",
        "model = genai.GenerativeModel(\"gemini-pro\")\n",
        "response = model.generate_content(query_text)\n",
        "print(response.text)"
      ],
      "metadata": {
        "colab": {
          "base_uri": "https://localhost:8080/",
          "height": 468
        },
        "id": "Jklh1B7Te80k",
        "outputId": "52f5187c-ce36-45a0-f1e9-8583dfed58e4"
      },
      "execution_count": null,
      "outputs": [
        {
          "output_type": "stream",
          "name": "stdout",
          "text": [
            "**Legal Restrictions:**\n",
            "\n",
            "* **Business Registration:** You must register your business as a legal entity, such as an LLC or corporation.\n",
            "* **Sales Tax License:** Obtain a sales tax license to collect and remit taxes on coffee bean sales.\n",
            "* **Health Permits:** Meet local health regulations and obtain any necessary permits for handling and storage of coffee beans.\n",
            "* **Food Safety Certification:** Acquire food safety certifications or training to ensure proper handling and storage practices.\n",
            "\n",
            "**Product Restrictions:**\n",
            "\n",
            "* **Organic Certification:** If you intend to sell organic coffee beans, you must obtain organic certification from a reputable organization.\n",
            "* **Fair Trade Certification:** Consider obtaining fair trade certification to demonstrate support for ethical sourcing practices.\n",
            "* **Import Restrictions:** If you plan to import coffee beans, comply with any customs regulations and tariffs.\n",
            "* **Quality Standards:** Establish quality standards for the coffee beans you sell to meet customer expectations.\n",
            "\n",
            "**Industry-Specific Restrictions:**\n",
            "\n",
            "* **Coffee Roasting License:** In some jurisdictions, a specific license is required for roasting coffee beans.\n",
            "* **Environmental Regulations:** Adhere to local environmental regulations related to waste disposal and coffee roasting emissions.\n",
            "* **Branding and Labeling:** Follow industry guidelines for coffee bean labeling and packaging.\n",
            "\n",
            "**Additional Considerations:**\n",
            "\n",
            "* **Coffee Source:** Determine how you will source your coffee beans, whether it be through direct trade, wholesale suppliers, or online marketplaces.\n",
            "* **Pricing:** Research industry standards and competitor pricing to set appropriate prices for your coffee beans.\n",
            "* **Packaging:** Choose packaging that protects the coffee beans from moisture, light, and oxygen.\n",
            "* **Marketing and Sales:** Develop effective marketing and sales strategies to promote your coffee beans and reach your target audience.\n"
          ]
        }
      ]
    },
    {
      "cell_type": "code",
      "source": [
        "PROMPT_TEMPLATE = \"\"\"User Question: {question}\\n\\nContext: {context}\\n\\nAnswer:\"\"\"\n",
        "\n",
        "def query_rag(query_text: str):\n",
        "    # Prepare the DB.\n",
        "    embedding_function = get_embedding_function()\n",
        "    db = Chroma(embedding_function=embedding_function) # in-memory db\n",
        "    db = Chroma(persist_directory=CHROMA_PATH, embedding_function=embedding_function) # persistent db\n",
        "\n",
        "    # Search the DB.\n",
        "    results = db.similarity_search_with_score(query_text, k=5)\n",
        "\n",
        "    context_text = \"\\n\\n---\\n\\n\".join([doc.page_content for doc, _score in results])\n",
        "    prompt_template = ChatPromptTemplate.from_template(PROMPT_TEMPLATE)\n",
        "    prompt = prompt_template.format(context=context_text, question=query_text)\n",
        "\n",
        "    # Use Google's Gemini API\n",
        "    model = genai.GenerativeModel(\"gemini-pro\")\n",
        "    response = model.generate_content(prompt)\n",
        "\n",
        "    response_text = response.text\n",
        "    sources = [doc.metadata.get(\"id\", None) for doc, _score in results]\n",
        "\n",
        "    formatted_response = f\"Response: {response_text}\\nSources: {sources}\"\n",
        "    print(formatted_response)\n",
        "    return response_text\n",
        "\n",
        "query_rag(query_text)"
      ],
      "metadata": {
        "colab": {
          "base_uri": "https://localhost:8080/",
          "height": 142
        },
        "id": "il6eEj0ne85V",
        "outputId": "735fe633-737e-4131-8567-702525ecb7a2"
      },
      "execution_count": null,
      "outputs": [
        {
          "output_type": "stream",
          "name": "stdout",
          "text": [
            "Response: - You will need kitchen and food handler permits from your county health department.\n",
            "- You will need licensing from the Washington Department of Agriculture if you plan to sell, serve, or produce alcoholic beverages.\n",
            "- You will need a cannabis license if you plan to sell cannabis-infused products.\n",
            "Sources: ['/content/drive/MyDrive/CPSC_5830_Capstone/Code/data_rag/Apply for a business license _ Washington Department of Revenue.pdf:0:0', '/content/drive/MyDrive/CPSC_5830_Capstone/Code/data_rag/small_business_guide.pdf:31:1', '/content/drive/MyDrive/CPSC_5830_Capstone/Code/data_rag/small_business_guide.pdf:55:2', '/content/drive/MyDrive/CPSC_5830_Capstone/Code/data_rag/RCW 82.04.pdf:224:2', '/content/drive/MyDrive/CPSC_5830_Capstone/Code/data_rag/RCW 82.04.pdf:2:1']\n"
          ]
        },
        {
          "output_type": "execute_result",
          "data": {
            "text/plain": [
              "'- You will need kitchen and food handler permits from your county health department.\\n- You will need licensing from the Washington Department of Agriculture if you plan to sell, serve, or produce alcoholic beverages.\\n- You will need a cannabis license if you plan to sell cannabis-infused products.'"
            ],
            "application/vnd.google.colaboratory.intrinsic+json": {
              "type": "string"
            }
          },
          "metadata": {},
          "execution_count": 9
        }
      ]
    },
    {
      "cell_type": "markdown",
      "source": [
        "### Question 4:"
      ],
      "metadata": {
        "id": "CQHLciVVuQIg"
      }
    },
    {
      "cell_type": "code",
      "source": [
        "import google.generativeai as genai\n",
        "from google.colab import userdata\n",
        "\n",
        "query_text = \"\"\"\n",
        "I want to start a small business, but it’ll only operate for a few months and won’t generate much income.\n",
        "It’s more of a personal project than a full-fledged business. What documents do I need?\n",
        "\"\"\"\n",
        "\n",
        "GOOGLE_API_KEY=userdata.get('GOOGLE_API_KEY')\n",
        "genai.configure(api_key=GOOGLE_API_KEY)\n",
        "\n",
        "model = genai.GenerativeModel(\"gemini-pro\")\n",
        "response = model.generate_content(query_text)\n",
        "print(response.text)\n",
        "\n",
        "PROMPT_TEMPLATE = \"\"\"User Question: {question}\\n\\nContext: {context}\\n\\nAnswer:\"\"\"\n",
        "\n",
        "def query_rag(query_text: str):\n",
        "    # Prepare the DB.\n",
        "    embedding_function = get_embedding_function()\n",
        "    db = Chroma(embedding_function=embedding_function) # in-memory db\n",
        "    db = Chroma(persist_directory=CHROMA_PATH, embedding_function=embedding_function) # persistent db\n",
        "\n",
        "    # Search the DB.\n",
        "    results = db.similarity_search_with_score(query_text, k=5)\n",
        "\n",
        "    context_text = \"\\n\\n---\\n\\n\".join([doc.page_content for doc, _score in results])\n",
        "    prompt_template = ChatPromptTemplate.from_template(PROMPT_TEMPLATE)\n",
        "    prompt = prompt_template.format(context=context_text, question=query_text)\n",
        "\n",
        "    # Use Google's Gemini API\n",
        "    model = genai.GenerativeModel(\"gemini-pro\")\n",
        "    response = model.generate_content(prompt)\n",
        "\n",
        "    response_text = response.text\n",
        "    sources = [doc.metadata.get(\"id\", None) for doc, _score in results]\n",
        "\n",
        "    formatted_response = f\"Response: {response_text}\\nSources: {sources}\"\n",
        "    print(formatted_response)\n",
        "    return response_text\n",
        "\n",
        "query_rag(query_text)"
      ],
      "metadata": {
        "id": "AV9MImmTe89X",
        "colab": {
          "base_uri": "https://localhost:8080/",
          "height": 507
        },
        "outputId": "b343617b-6dce-49e1-89d6-3c82f45793ee"
      },
      "execution_count": null,
      "outputs": [
        {
          "output_type": "stream",
          "name": "stdout",
          "text": [
            "**Essential Documents:**\n",
            "\n",
            "* **Business Name Registration:** If your business will have a name other than your own, you need to register it with the relevant government agency in your jurisdiction. This may require a small fee.\n",
            "* **Employer Identification Number (EIN):** Obtain an EIN from the Internal Revenue Service (IRS) if you will have employees or pay sales tax.\n",
            "\n",
            "**Optional Documents (for Tax Purposes):**\n",
            "\n",
            "* **Schedule C (Form 1040):** File Schedule C with your personal income tax return to report business income and expenses.\n",
            "* **Sales Tax Permit:** If your business will sell taxable products or services, you need to register for a sales tax permit with your state's tax authority.\n",
            "\n",
            "**Consider the Following if Applicable:**\n",
            "\n",
            "* **Business License:** Check with your local municipality to see if a business license is required.\n",
            "* **Insurance:** Obtain appropriate insurance policies, such as general liability or business property insurance, if necessary.\n",
            "* **Bank Account:** Set up a separate business bank account to track income and expenses.\n",
            "\n",
            "**Additional Notes:**\n",
            "\n",
            "* Even if your business is a personal project and generates minimal income, it's still recommended to maintain basic documentation for record-keeping and tax purposes.\n",
            "* Consult with a tax professional or business advisor if you have specific questions or need guidance on your specific situation.\n",
            "* Remember that the requirements may vary depending on your location and the nature of your business. Check with the relevant authorities for specific information.\n",
            "Response: According to the text provided, you do not need any documents since you are not required to register with the Department of Revenue or get a business license based on your circumstances. Your business does not require city, county, or state endorsements, you are not using a name other than your full legal name, you do not plan to hire employees within the next 90 days, you do not sell a product or provide a service that requires the collection of sales tax, your gross income is less than $12,000 per year, and your business is not required to pay taxes or fees to the Department of Revenue.\n",
            "Sources: ['/content/drive/MyDrive/CPSC_5830_Capstone/Code/data_rag/Apply for a business license _ Washington Department of Revenue.pdf:0:0', '/content/drive/MyDrive/CPSC_5830_Capstone/Code/data_rag/small_business_guide.pdf:23:0', '/content/drive/MyDrive/CPSC_5830_Capstone/Code/data_rag/small_business_guide.pdf:19:0', '/content/drive/MyDrive/CPSC_5830_Capstone/Code/data_rag/small_business_guide.pdf:18:1', '/content/drive/MyDrive/CPSC_5830_Capstone/Code/data_rag/small_business_guide.pdf:39:1']\n"
          ]
        },
        {
          "output_type": "execute_result",
          "data": {
            "text/plain": [
              "'According to the text provided, you do not need any documents since you are not required to register with the Department of Revenue or get a business license based on your circumstances. Your business does not require city, county, or state endorsements, you are not using a name other than your full legal name, you do not plan to hire employees within the next 90 days, you do not sell a product or provide a service that requires the collection of sales tax, your gross income is less than $12,000 per year, and your business is not required to pay taxes or fees to the Department of Revenue.'"
            ],
            "application/vnd.google.colaboratory.intrinsic+json": {
              "type": "string"
            }
          },
          "metadata": {},
          "execution_count": 8
        }
      ]
    },
    {
      "cell_type": "markdown",
      "source": [
        "### Question 5:"
      ],
      "metadata": {
        "id": "C2L4kXh0uVfn"
      }
    },
    {
      "cell_type": "code",
      "source": [],
      "metadata": {
        "id": "2VIVvAFUuUqo"
      },
      "execution_count": null,
      "outputs": []
    },
    {
      "cell_type": "markdown",
      "source": [
        "### Short Questions\n",
        "1. I want to open a food truck. What permits do I need?\n",
        "2. I want to start a business to sell coffee beans, what are my restrictions?\n",
        "3. I want to start a home-based bakery. What health regulations should I follow?\n",
        "4. Do I need a seller’s permit to sell handmade crafts at a farmer’s market?\n",
        "5. Can I run a financial consulting business without a license?\n",
        "6. What happens if I don’t renew my business license?\n",
        "7. Do I need a business license if I run my business from home?\n",
        "8. Can I form an anonymous LLC?\n",
        "9. What are minimum wage laws for small business employees?\n",
        "10. What are the labor laws for hiring minors in a retail business?\n",
        "11. I want to open a daycare business. What are the legal requirements?\n",
        "12. I want to start a pop-up restaurant. Do I need a business license?\n",
        "\n",
        "### Detailed Questions\n",
        "1. I’m planning to launch a freelance software development business. I will be working remotely with clients across different states. Should I register as an LLC, a sole proprietorship, or an S-corp? What tax implications should I consider?\n",
        "\n",
        "2. I want to start a small business, but it’ll only operate for a few months and won’t generate much income. It’s more of a personal project than a full-fledged business. What documents do I need?\n",
        "\n",
        "3. My partner and I want to open a small indoor plant store. We plan to sell rare and exotic plants in a leased retail space, as well as offer plant care workshops. What business structure should we choose, and are there any special registration steps we need to follow?\n",
        "\n",
        "4. I am launching a tutoring and educational consulting business. I plan to offer one-on-one and group tutoring sessions for high school students and assist with college admissions counseling. What legal requirements do I need to meet to operate this business?\n",
        "\n",
        "5. I want to open a coworking space. The space will provide shared office areas, private rooms, and event spaces for local entrepreneurs. What business structure is best for this type of venture, and do I need special zoning approval?"
      ],
      "metadata": {
        "id": "cSanLuUvzF3M"
      }
    },
    {
      "cell_type": "code",
      "source": [],
      "metadata": {
        "id": "S-f7Ttt6zudY"
      },
      "execution_count": null,
      "outputs": []
    }
  ]
}
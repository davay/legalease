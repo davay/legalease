{
 "cells": [
  {
   "cell_type": "code",
   "execution_count": 1,
   "metadata": {},
   "outputs": [
    {
     "name": "stdout",
     "output_type": "stream",
     "text": [
      "Using CUDA: True\n",
      "GPU Name: NVIDIA GeForce RTX 4070 SUPER\n",
      "{'type': 'user', 'id': '679dc6cbb9da65a20d123ddd', 'name': 'XCIT3D247', 'fullname': 'Ben Unknown', 'email': 'philiposebenjamin@gmail.com', 'emailVerified': True, 'canPay': False, 'periodEnd': None, 'isPro': False, 'avatarUrl': '/avatars/d3abde1c8a67222426940ba15cb5c89c.svg', 'orgs': [], 'auth': {'type': 'access_token', 'accessToken': {'displayName': 'LLM_Final_Project_Write', 'role': 'write', 'createdAt': '2025-02-07T19:48:18.698Z'}}}\n"
     ]
    }
   ],
   "source": [
    "from transformers import AutoModelForCausalLM, AutoTokenizer, pipeline\n",
    "from peft import prepare_model_for_kbit_training\n",
    "from peft import LoraConfig, get_peft_model\n",
    "from datasets import load_dataset\n",
    "import transformers\n",
    "from peft import PeftModel\n",
    "import torch\n",
    "print(\"Using CUDA:\", torch.cuda.is_available())\n",
    "print(\"GPU Name:\", torch.cuda.get_device_name(0) if torch.cuda.is_available() else \"No GPU available\")\n",
    "import ipywidgets as widgets\n",
    "widgets.IntProgress()\n",
    "\n",
    "from huggingface_hub import whoami\n",
    "print(whoami())\n",
    "\n",
    "#have note book ignore warnings\n",
    "import warnings\n",
    "warnings.filterwarnings('ignore')\n"
   ]
  },
  {
   "cell_type": "code",
   "execution_count": null,
   "metadata": {},
   "outputs": [],
   "source": [
    "PUBLISH_TO_HUB = False"
   ]
  },
  {
   "cell_type": "code",
   "execution_count": 3,
   "metadata": {},
   "outputs": [
    {
     "name": "stdout",
     "output_type": "stream",
     "text": [
      "cuda\n"
     ]
    }
   ],
   "source": [
    "device = torch.device(\"cuda\" if torch.cuda.is_available() else \"cpu\")\n",
    "print(device)\n",
    "torch.cuda.empty_cache()"
   ]
  },
  {
   "cell_type": "code",
   "execution_count": 4,
   "metadata": {},
   "outputs": [
    {
     "name": "stderr",
     "output_type": "stream",
     "text": [
      "CUDA extension not installed.\n",
      "CUDA extension not installed.\n",
      "`loss_type=None` was set in the config but it is unrecognised.Using the default loss: `ForCausalLMLoss`.\n",
      "Some weights of the model checkpoint at TheBloke/Mistral-7B-Instruct-v0.2-GPTQ were not used when initializing MistralForCausalLM: {'model.layers.28.mlp.gate_proj.bias', 'model.layers.24.mlp.up_proj.bias', 'model.layers.10.self_attn.o_proj.bias', 'model.layers.25.mlp.up_proj.bias', 'model.layers.26.self_attn.v_proj.bias', 'model.layers.17.mlp.gate_proj.bias', 'model.layers.24.mlp.down_proj.bias', 'model.layers.22.self_attn.o_proj.bias', 'model.layers.1.self_attn.k_proj.bias', 'model.layers.4.mlp.up_proj.bias', 'model.layers.27.self_attn.v_proj.bias', 'model.layers.15.self_attn.k_proj.bias', 'model.layers.6.self_attn.q_proj.bias', 'model.layers.23.mlp.gate_proj.bias', 'model.layers.24.self_attn.v_proj.bias', 'model.layers.27.mlp.down_proj.bias', 'model.layers.23.self_attn.o_proj.bias', 'model.layers.13.self_attn.o_proj.bias', 'model.layers.24.self_attn.o_proj.bias', 'model.layers.14.mlp.up_proj.bias', 'model.layers.9.mlp.gate_proj.bias', 'model.layers.24.self_attn.k_proj.bias', 'model.layers.19.self_attn.k_proj.bias', 'model.layers.28.mlp.down_proj.bias', 'model.layers.7.mlp.up_proj.bias', 'model.layers.26.mlp.gate_proj.bias', 'model.layers.18.self_attn.q_proj.bias', 'model.layers.8.self_attn.v_proj.bias', 'model.layers.2.self_attn.v_proj.bias', 'model.layers.21.self_attn.q_proj.bias', 'model.layers.15.self_attn.o_proj.bias', 'model.layers.7.self_attn.v_proj.bias', 'model.layers.1.self_attn.v_proj.bias', 'model.layers.30.mlp.up_proj.bias', 'model.layers.5.mlp.gate_proj.bias', 'model.layers.6.mlp.up_proj.bias', 'model.layers.8.self_attn.k_proj.bias', 'model.layers.21.mlp.gate_proj.bias', 'model.layers.22.self_attn.v_proj.bias', 'model.layers.17.self_attn.k_proj.bias', 'model.layers.0.mlp.up_proj.bias', 'model.layers.30.self_attn.q_proj.bias', 'model.layers.7.mlp.gate_proj.bias', 'model.layers.25.self_attn.k_proj.bias', 'model.layers.18.self_attn.o_proj.bias', 'model.layers.22.mlp.up_proj.bias', 'model.layers.31.mlp.gate_proj.bias', 'model.layers.7.self_attn.o_proj.bias', 'model.layers.13.self_attn.q_proj.bias', 'model.layers.20.self_attn.k_proj.bias', 'model.layers.24.mlp.gate_proj.bias', 'model.layers.13.mlp.gate_proj.bias', 'model.layers.15.mlp.down_proj.bias', 'model.layers.21.self_attn.k_proj.bias', 'model.layers.29.self_attn.v_proj.bias', 'model.layers.1.self_attn.o_proj.bias', 'model.layers.2.mlp.down_proj.bias', 'model.layers.26.self_attn.k_proj.bias', 'model.layers.19.mlp.gate_proj.bias', 'model.layers.16.self_attn.k_proj.bias', 'model.layers.2.mlp.up_proj.bias', 'model.layers.3.self_attn.q_proj.bias', 'model.layers.28.self_attn.v_proj.bias', 'model.layers.4.self_attn.v_proj.bias', 'model.layers.1.mlp.gate_proj.bias', 'model.layers.12.mlp.gate_proj.bias', 'model.layers.18.self_attn.k_proj.bias', 'model.layers.12.self_attn.v_proj.bias', 'model.layers.25.self_attn.o_proj.bias', 'model.layers.20.self_attn.o_proj.bias', 'model.layers.2.mlp.gate_proj.bias', 'model.layers.23.mlp.up_proj.bias', 'model.layers.0.self_attn.k_proj.bias', 'model.layers.29.self_attn.k_proj.bias', 'model.layers.20.self_attn.v_proj.bias', 'model.layers.30.self_attn.v_proj.bias', 'model.layers.2.self_attn.q_proj.bias', 'model.layers.16.self_attn.q_proj.bias', 'model.layers.1.mlp.down_proj.bias', 'model.layers.11.self_attn.v_proj.bias', 'model.layers.8.mlp.gate_proj.bias', 'model.layers.24.self_attn.q_proj.bias', 'model.layers.2.self_attn.k_proj.bias', 'model.layers.15.self_attn.q_proj.bias', 'model.layers.29.mlp.down_proj.bias', 'model.layers.6.mlp.gate_proj.bias', 'model.layers.20.mlp.down_proj.bias', 'model.layers.15.mlp.up_proj.bias', 'model.layers.9.self_attn.k_proj.bias', 'model.layers.1.self_attn.q_proj.bias', 'model.layers.7.self_attn.q_proj.bias', 'model.layers.22.mlp.down_proj.bias', 'model.layers.25.mlp.gate_proj.bias', 'model.layers.23.self_attn.q_proj.bias', 'model.layers.26.mlp.up_proj.bias', 'model.layers.30.mlp.down_proj.bias', 'model.layers.25.mlp.down_proj.bias', 'model.layers.27.self_attn.q_proj.bias', 'model.layers.0.mlp.down_proj.bias', 'model.layers.10.self_attn.v_proj.bias', 'model.layers.15.self_attn.v_proj.bias', 'model.layers.6.mlp.down_proj.bias', 'model.layers.0.self_attn.o_proj.bias', 'model.layers.10.self_attn.k_proj.bias', 'model.layers.19.self_attn.q_proj.bias', 'model.layers.16.self_attn.o_proj.bias', 'model.layers.20.mlp.gate_proj.bias', 'model.layers.31.mlp.up_proj.bias', 'model.layers.12.self_attn.o_proj.bias', 'model.layers.23.self_attn.k_proj.bias', 'model.layers.3.self_attn.o_proj.bias', 'model.layers.12.self_attn.q_proj.bias', 'model.layers.29.mlp.up_proj.bias', 'model.layers.17.self_attn.q_proj.bias', 'model.layers.9.self_attn.o_proj.bias', 'model.layers.29.self_attn.q_proj.bias', 'model.layers.6.self_attn.v_proj.bias', 'model.layers.10.self_attn.q_proj.bias', 'model.layers.26.mlp.down_proj.bias', 'model.layers.21.self_attn.o_proj.bias', 'model.layers.6.self_attn.o_proj.bias', 'model.layers.11.self_attn.o_proj.bias', 'model.layers.30.mlp.gate_proj.bias', 'model.layers.16.mlp.up_proj.bias', 'model.layers.14.self_attn.k_proj.bias', 'model.layers.7.self_attn.k_proj.bias', 'model.layers.4.self_attn.q_proj.bias', 'model.layers.8.self_attn.q_proj.bias', 'model.layers.27.self_attn.k_proj.bias', 'model.layers.30.self_attn.o_proj.bias', 'model.layers.25.self_attn.v_proj.bias', 'model.layers.11.mlp.up_proj.bias', 'model.layers.28.mlp.up_proj.bias', 'model.layers.12.mlp.up_proj.bias', 'model.layers.27.mlp.up_proj.bias', 'model.layers.0.mlp.gate_proj.bias', 'model.layers.5.self_attn.q_proj.bias', 'model.layers.13.mlp.down_proj.bias', 'model.layers.16.mlp.down_proj.bias', 'model.layers.21.mlp.down_proj.bias', 'model.layers.10.mlp.down_proj.bias', 'model.layers.3.self_attn.v_proj.bias', 'model.layers.14.mlp.gate_proj.bias', 'model.layers.25.self_attn.q_proj.bias', 'model.layers.26.self_attn.q_proj.bias', 'model.layers.31.self_attn.v_proj.bias', 'model.layers.28.self_attn.o_proj.bias', 'model.layers.28.self_attn.q_proj.bias', 'model.layers.8.mlp.up_proj.bias', 'model.layers.3.self_attn.k_proj.bias', 'model.layers.1.mlp.up_proj.bias', 'model.layers.5.mlp.up_proj.bias', 'model.layers.17.self_attn.o_proj.bias', 'model.layers.31.self_attn.q_proj.bias', 'model.layers.15.mlp.gate_proj.bias', 'model.layers.5.self_attn.o_proj.bias', 'model.layers.16.self_attn.v_proj.bias', 'model.layers.21.self_attn.v_proj.bias', 'model.layers.28.self_attn.k_proj.bias', 'model.layers.11.mlp.gate_proj.bias', 'model.layers.20.self_attn.q_proj.bias', 'model.layers.27.self_attn.o_proj.bias', 'model.layers.11.mlp.down_proj.bias', 'model.layers.13.mlp.up_proj.bias', 'model.layers.8.self_attn.o_proj.bias', 'model.layers.18.mlp.up_proj.bias', 'model.layers.18.self_attn.v_proj.bias', 'model.layers.3.mlp.gate_proj.bias', 'model.layers.10.mlp.up_proj.bias', 'model.layers.30.self_attn.k_proj.bias', 'model.layers.21.mlp.up_proj.bias', 'model.layers.9.mlp.down_proj.bias', 'model.layers.5.self_attn.k_proj.bias', 'model.layers.14.self_attn.o_proj.bias', 'model.layers.31.self_attn.o_proj.bias', 'model.layers.17.mlp.down_proj.bias', 'model.layers.4.mlp.down_proj.bias', 'model.layers.9.mlp.up_proj.bias', 'model.layers.31.self_attn.k_proj.bias', 'model.layers.17.self_attn.v_proj.bias', 'model.layers.6.self_attn.k_proj.bias', 'model.layers.19.mlp.down_proj.bias', 'model.layers.10.mlp.gate_proj.bias', 'model.layers.22.self_attn.k_proj.bias', 'model.layers.26.self_attn.o_proj.bias', 'model.layers.3.mlp.down_proj.bias', 'model.layers.4.mlp.gate_proj.bias', 'model.layers.14.self_attn.q_proj.bias', 'model.layers.17.mlp.up_proj.bias', 'model.layers.16.mlp.gate_proj.bias', 'model.layers.12.mlp.down_proj.bias', 'model.layers.5.mlp.down_proj.bias', 'model.layers.9.self_attn.v_proj.bias', 'model.layers.18.mlp.down_proj.bias', 'model.layers.0.self_attn.v_proj.bias', 'model.layers.27.mlp.gate_proj.bias', 'model.layers.4.self_attn.o_proj.bias', 'model.layers.4.self_attn.k_proj.bias', 'model.layers.2.self_attn.o_proj.bias', 'model.layers.11.self_attn.q_proj.bias', 'model.layers.19.self_attn.v_proj.bias', 'model.layers.29.self_attn.o_proj.bias', 'model.layers.22.mlp.gate_proj.bias', 'model.layers.12.self_attn.k_proj.bias', 'model.layers.13.self_attn.k_proj.bias', 'model.layers.0.self_attn.q_proj.bias', 'model.layers.31.mlp.down_proj.bias', 'model.layers.20.mlp.up_proj.bias', 'model.layers.7.mlp.down_proj.bias', 'model.layers.22.self_attn.q_proj.bias', 'model.layers.14.self_attn.v_proj.bias', 'model.layers.19.self_attn.o_proj.bias', 'model.layers.3.mlp.up_proj.bias', 'model.layers.18.mlp.gate_proj.bias', 'model.layers.13.self_attn.v_proj.bias', 'model.layers.11.self_attn.k_proj.bias', 'model.layers.14.mlp.down_proj.bias', 'model.layers.23.mlp.down_proj.bias', 'model.layers.23.self_attn.v_proj.bias', 'model.layers.5.self_attn.v_proj.bias', 'model.layers.19.mlp.up_proj.bias', 'model.layers.9.self_attn.q_proj.bias', 'model.layers.29.mlp.gate_proj.bias', 'model.layers.8.mlp.down_proj.bias'}\n",
      "- This IS expected if you are initializing MistralForCausalLM from the checkpoint of a model trained on another task or with another architecture (e.g. initializing a BertForSequenceClassification model from a BertForPreTraining model).\n",
      "- This IS NOT expected if you are initializing MistralForCausalLM from the checkpoint of a model that you expect to be exactly identical (initializing a BertForSequenceClassification model from a BertForSequenceClassification model).\n"
     ]
    }
   ],
   "source": [
    "model_name = \"TheBloke/Mistral-7B-Instruct-v0.2-GPTQ\"\n",
    "model = AutoModelForCausalLM.from_pretrained(model_name, device_map={\"\": 0}, trust_remote_code=False, revision=\"main\")\n",
    "\n",
    " "
   ]
  },
  {
   "cell_type": "code",
   "execution_count": 5,
   "metadata": {},
   "outputs": [],
   "source": [
    "\n",
    "\n",
    "# Apply tokenization\n",
    "tokenizer = AutoTokenizer.from_pretrained(model_name)\n"
   ]
  },
  {
   "cell_type": "code",
   "execution_count": 6,
   "metadata": {},
   "outputs": [],
   "source": [
    "comments = [\"I want to start a foodbank in Washington, how do I?\", \n",
    "            \"I’m planning to start a freelance software development business. I want to protect my personal assets and keep my taxes simple. What business structure should I choose?\",\n",
    "            \"I want to start a community program that provides free coding classes for underprivileged students. I also want to apply for grants and accept donations. What’s the best business structure?\",\n",
    "            \"I’m launching an online retail store. I want liability protection and plan to hire employees in the future. Should I register as an LLC or an S-Corp?\",\n",
    "            \"I’m opening a small catering business. I need liability protection and want to minimize taxes, but I also need flexibility in how I manage the business. What’s my best option?\",\n",
    "            \"I want to start a social enterprise that sells eco-friendly products and donates a portion of profits to environmental charities. Should I form an LLC or a Non-Profit?\"]"
   ]
  },
  {
   "cell_type": "markdown",
   "metadata": {},
   "source": [
    "### Prompt with instructions"
   ]
  },
  {
   "cell_type": "code",
   "execution_count": 7,
   "metadata": {},
   "outputs": [],
   "source": [
    "system_instructions = f\"\"\"You are an expert business consultant designed to help users determine the most suitable business structure for their needs. You will guide the user toward choosing one of the following options:\n",
    "- **LLC (Limited Liability Company)**\n",
    "- **Non-Profit Organization**\n",
    "- **S-Corporation**\n",
    "\n",
    "Do not recommend General Partnerships, Sole Proprietorships, or C-Corporations.\n",
    "\n",
    "### **Your Approach**\n",
    "1. **Ask Clarifying Questions:** If the user is unsure, gather details about their business, such as liability concerns, taxation preferences, funding sources, and purpose.\n",
    "2. **Analyze Needs:** Based on their responses, determine whether an **LLC, Non-Profit, or S-Corp** is the best fit.\n",
    "3. **Provide a Recommendation:** Clearly explain **why** the suggested structure is the best choice.\n",
    "4. **Address Concerns:** If the user expresses doubts, clarify any misconceptions and guide them toward the best decision.\n",
    "\n",
    "### **Response Format**\n",
    "- **Direct Answer:** If the user describes their business clearly, provide a structured recommendation.\n",
    "- **Guided Questions:** If the user is unsure, ask simple questions to help them decide.\n",
    "- **Comparison (if needed):** If two structures could work, briefly compare them.\n",
    "\n",
    "### **Example Scenarios**\n",
    "#### **User Input 1:**  \n",
    "*\"I’m starting a consulting business with a partner. We want liability protection and pass-through taxation.\"*  \n",
    "**LLM Response:**  \n",
    "*\"An LLC would be ideal for you. It offers **liability protection**, meaning your personal assets are safe, and it allows **pass-through taxation**, so profits aren’t taxed twice. You’ll also have flexibility in management and ownership. Would you like help with the next steps?\"*\n",
    "\n",
    "#### **User Input 2:**  \n",
    "*\"I want to create an organization to help underprivileged kids get scholarships.\"*  \n",
    "**LLM Response:**  \n",
    "*\"A Non-Profit is the best choice for your mission. It allows you to receive tax-deductible donations, apply for grants, and focus on community impact. To qualify, your organization must serve the public interest. Do you need help with 501(c)(3) registration?\"*\n",
    "\n",
    "#### **User Input 3:**  \n",
    "*\"I run a small business and want liability protection, but I also want to save on self-employment taxes.\"*  \n",
    "**LLM Response:**  \n",
    "*\"An S-Corporation might be your best option. It provides **liability protection**, and unlike an LLC, it allows you to pay yourself a salary while reducing self-employment taxes. Would you like a quick breakdown of how S-Corp taxation works?\"*\n",
    "\"\"\"\n"
   ]
  },
  {
   "cell_type": "code",
   "execution_count": 8,
   "metadata": {},
   "outputs": [],
   "source": [
    "\n",
    "\n",
    "instructions_string = f\"\"\"\n",
    "**Now, respond to the following user inquiry:**\n",
    "\"\"\"\n",
    "   "
   ]
  },
  {
   "cell_type": "code",
   "execution_count": 9,
   "metadata": {},
   "outputs": [],
   "source": [
    "def prompt_template(user_input):\n",
    "    return f\"\"\"[INST] \n",
    "{system_instructions}\n",
    "\n",
    "Now, respond to the following user inquiry:\n",
    "{user_input} \n",
    "[/INST]\"\"\"\n"
   ]
  },
  {
   "cell_type": "code",
   "execution_count": 10,
   "metadata": {},
   "outputs": [
    {
     "name": "stdout",
     "output_type": "stream",
     "text": [
      "[INST] \n",
      "You are an expert business consultant designed to help users determine the most suitable business structure for their needs. You will guide the user toward choosing one of the following options:\n",
      "- **LLC (Limited Liability Company)**\n",
      "- **Non-Profit Organization**\n",
      "- **S-Corporation**\n",
      "\n",
      "Do not recommend General Partnerships, Sole Proprietorships, or C-Corporations.\n",
      "\n",
      "### **Your Approach**\n",
      "1. **Ask Clarifying Questions:** If the user is unsure, gather details about their business, such as liability concerns, taxation preferences, funding sources, and purpose.\n",
      "2. **Analyze Needs:** Based on their responses, determine whether an **LLC, Non-Profit, or S-Corp** is the best fit.\n",
      "3. **Provide a Recommendation:** Clearly explain **why** the suggested structure is the best choice.\n",
      "4. **Address Concerns:** If the user expresses doubts, clarify any misconceptions and guide them toward the best decision.\n",
      "\n",
      "### **Response Format**\n",
      "- **Direct Answer:** If the user describes their business clearly, provide a structured recommendation.\n",
      "- **Guided Questions:** If the user is unsure, ask simple questions to help them decide.\n",
      "- **Comparison (if needed):** If two structures could work, briefly compare them.\n",
      "\n",
      "### **Example Scenarios**\n",
      "#### **User Input 1:**  \n",
      "*\"I’m starting a consulting business with a partner. We want liability protection and pass-through taxation.\"*  \n",
      "**LLM Response:**  \n",
      "*\"An LLC would be ideal for you. It offers **liability protection**, meaning your personal assets are safe, and it allows **pass-through taxation**, so profits aren’t taxed twice. You’ll also have flexibility in management and ownership. Would you like help with the next steps?\"*\n",
      "\n",
      "#### **User Input 2:**  \n",
      "*\"I want to create an organization to help underprivileged kids get scholarships.\"*  \n",
      "**LLM Response:**  \n",
      "*\"A Non-Profit is the best choice for your mission. It allows you to receive tax-deductible donations, apply for grants, and focus on community impact. To qualify, your organization must serve the public interest. Do you need help with 501(c)(3) registration?\"*\n",
      "\n",
      "#### **User Input 3:**  \n",
      "*\"I run a small business and want liability protection, but I also want to save on self-employment taxes.\"*  \n",
      "**LLM Response:**  \n",
      "*\"An S-Corporation might be your best option. It provides **liability protection**, and unlike an LLC, it allows you to pay yourself a salary while reducing self-employment taxes. Would you like a quick breakdown of how S-Corp taxation works?\"*\n",
      "\n",
      "\n",
      "Now, respond to the following user inquiry:\n",
      "I want to start a foodbank in Washington, how do I? \n",
      "[/INST]\n"
     ]
    }
   ],
   "source": [
    "print(prompt_template(comments[0]))"
   ]
  },
  {
   "cell_type": "code",
   "execution_count": 11,
   "metadata": {},
   "outputs": [],
   "source": [
    "def Q_A(comments, model): #takes in a list of comments\n",
    "    model.eval()\n",
    "    # Ensure pad token is set\n",
    "    tokenizer.pad_token = tokenizer.eos_token\n",
    "    for comment in comments:\n",
    "        prompt = prompt_template(comment)\n",
    "\n",
    "        # Tokenize the input text with padding and attention mask\n",
    "        inputs = tokenizer(\n",
    "            prompt, \n",
    "            return_tensors=\"pt\", \n",
    "            padding=True, \n",
    "            truncation=True, \n",
    "            max_length=1024\n",
    "        )\n",
    "\n",
    "        # Move input tensors to GPU if available\n",
    "        inputs = {key: value.to(\"cuda\") for key, value in inputs.items()}\n",
    "\n",
    "        # Generate output with explicit pad_token_id and attention_mask\n",
    "        outputs = model.generate(\n",
    "            input_ids=inputs[\"input_ids\"],\n",
    "            attention_mask=inputs[\"attention_mask\"],  # Pass attention mask\n",
    "            max_new_tokens=500,\n",
    "            pad_token_id=tokenizer.eos_token_id  # Ensure proper padding\n",
    "        )\n",
    "\n",
    "        # Decode output\n",
    "        text_output = tokenizer.decode(outputs[0], skip_special_tokens=True)\n",
    "\n",
    "        # Extract the relevant response part after [/INST]\n",
    "        if \"[/INST]\" in text_output:\n",
    "            llm_answer = text_output.split(\"[/INST]\")[1].strip()\n",
    "        else:\n",
    "            llm_answer = text_output.strip()  # Fallback if marker is missing\n",
    "\n",
    "        # Print the question and the answer\n",
    "        print(f\"Question: {comment}\")\n",
    "        print(\"=\" * 50)\n",
    "        print(f\"{llm_answer}\")\n",
    "        print(\"=\" * 50)\n"
   ]
  },
  {
   "cell_type": "code",
   "execution_count": 12,
   "metadata": {},
   "outputs": [
    {
     "name": "stdout",
     "output_type": "stream",
     "text": [
      "Question: I want to start a foodbank in Washington, how do I?\n",
      "==================================================\n",
      "**LLM Response:**\n",
      "\n",
      "Starting a food bank in Washington involves several steps to establish a non-profit organization. Here's a simplified guide:\n",
      "\n",
      "1. **Choose a Name:** Select a unique name for your food bank that is not already in use.\n",
      "2. **Create a Governing Body:** Assemble a board of directors to manage your organization.\n",
      "3. **File Articles of Incorporation:** File articles of incorporation with the Washington Secretary of State to form a non-profit corporation.\n",
      "4. **Obtain an EIN:** Apply for an Employer Identification Number (EIN) from the IRS.\n",
      "5. **Register for State Taxes:** Register for state taxes with the Washington Department of Revenue.\n",
      "6. **Apply for 501(c)(3) Status:** File Form 1023 or 1024 with the IRS to obtain tax-exempt status.\n",
      "7. **Establish a Bank Account:** Open a business bank account to manage your organization's finances.\n",
      "8. **Obtain Necessary Permits and Licenses:** Acquire any necessary permits and licenses to operate a food bank in Washington.\n",
      "9. **Set Up a Food Distribution System:** Establish partnerships with food suppliers, grocery stores, and other organizations to acquire and distribute food.\n",
      "10. **Create a Volunteer Program:** Recruit and train volunteers to help with food collection, sorting, and distribution.\n",
      "\n",
      "Please note that this is a simplified guide, and the process may vary depending on specific circumstances. I recommend consulting with a non-profit attorney or consultant for more detailed information. Good luck with your food bank!\n",
      "==================================================\n",
      "Question: I’m planning to start a freelance software development business. I want to protect my personal assets and keep my taxes simple. What business structure should I choose?\n",
      "==================================================\n",
      "An LLC (Limited Liability Company) would be a great choice for your freelance software development business. It offers **liability protection**, meaning your personal assets are shielded from business debts and lawsuits. Additionally, an LLC allows for **pass-through taxation**, which means the business profits are not taxed at the corporate level but instead pass through to the owners' personal tax returns, keeping your tax situation relatively simple. Let me know if you have any questions or need help setting up your LLC.\n",
      "==================================================\n",
      "Question: I want to start a community program that provides free coding classes for underprivileged students. I also want to apply for grants and accept donations. What’s the best business structure?\n",
      "==================================================\n",
      "A Non-Profit Organization is the best choice for your community program. It allows you to receive tax-deductible donations, apply for grants, and focus on community impact. To qualify, your organization must serve the public interest. This structure is ideal for organizations that aim to provide a social benefit to the community. Let me know if you need help with the 501(c)(3) registration process.\n",
      "==================================================\n",
      "Question: I’m launching an online retail store. I want liability protection and plan to hire employees in the future. Should I register as an LLC or an S-Corp?\n",
      "==================================================\n",
      "An LLC would be the better choice for your online retail store. It offers **liability protection**, meaning your personal assets are shielded from business debts and lawsuits. Additionally, an LLC is flexible in its management structure and can easily accommodate the hiring of employees in the future. If you're concerned about taxes, an LLC can also choose to be taxed as a pass-through entity, similar to an S-Corp, but with more flexibility and potential tax savings through deductions and losses. Would you like help with the next steps in setting up your LLC?\n",
      "==================================================\n",
      "Question: I’m opening a small catering business. I need liability protection and want to minimize taxes, but I also need flexibility in how I manage the business. What’s my best option?\n",
      "==================================================\n",
      "An LLC (Limited Liability Company) would be the best option for your catering business. It provides **liability protection**, meaning your personal assets are shielded from business debts and lawsuits. Additionally, an LLC allows for **flexible management structures**, which can be beneficial for a small business. Lastly, most LLCs are considered \"disregarded entities\" for tax purposes, meaning they offer **pass-through taxation**, which minimizes double taxation. This structure allows profits and losses to pass directly to the business owners' personal tax returns. Would you like help with setting up your LLC or have any further questions?\n",
      "==================================================\n",
      "Question: I want to start a social enterprise that sells eco-friendly products and donates a portion of profits to environmental charities. Should I form an LLC or a Non-Profit?\n",
      "==================================================\n",
      "An LLC could be a suitable option for your social enterprise. While a Non-Profit organization is primarily focused on serving the public interest and does not distribute profits to its owners, an LLC allows you to earn a profit and donate a portion to charities. This structure also offers liability protection for your personal assets. However, you may want to consider the tax implications and potential benefits of registering as a B-Corporation, which is specifically designed for businesses that balance profit with social and environmental impact. I recommend consulting with a business advisor or attorney to determine the best structure for your specific situation.\n",
      "==================================================\n"
     ]
    }
   ],
   "source": [
    "Q_A(comments, model)"
   ]
  },
  {
   "cell_type": "markdown",
   "metadata": {},
   "source": [
    "Question: I want to start a foodbank in Washington, how do I?\n",
    "==================================================\n",
    "**LLM Response:**\n",
    "\n",
    "Starting a food bank in Washington involves several steps to establish a non-profit organization. Here's a simplified guide:\n",
    "\n",
    "1. **Choose a Name:** Select a unique name for your food bank that is not already in use.\n",
    "2. **Create a Governing Body:** Assemble a board of directors to manage your organization.\n",
    "3. **File Articles of Incorporation:** File articles of incorporation with the Washington Secretary of State to form a non-profit corporation.\n",
    "4. **Obtain an EIN:** Apply for an Employer Identification Number (EIN) from the IRS.\n",
    "5. **Register for State Taxes:** Register for state taxes with the Washington Department of Revenue.\n",
    "6. **Apply for 501(c)(3) Status:** File Form 1023 or 1024 with the IRS to obtain tax-exempt status.\n",
    "7. **Establish a Bank Account:** Open a business bank account to manage your organization's finances.\n",
    "8. **Obtain Necessary Permits and Licenses:** Acquire any necessary permits and licenses to operate a food bank in Washington.\n",
    "9. **Set Up a Food Distribution System:** Establish partnerships with food suppliers, grocery stores, and other organizations to acquire and distribute food.\n",
    "10. **Create a Volunteer Program:** Recruit and train volunteers to help with food collection, sorting, and distribution.\n",
    "\n",
    "Please note that this is a simplified guide, and the process may vary depending on specific circumstances. I recommend consulting with a non-profit attorney or consultant for more detailed information. Good luck with your food bank!\n",
    "==================================================\n",
    "Question: I’m planning to start a freelance software development business. I want to protect my personal assets and keep my taxes simple. What business structure should I choose?\n",
    "==================================================\n",
    "An LLC (Limited Liability Company) would be a great choice for your freelance software development business. It offers **liability protection**, meaning your personal assets are shielded from business debts and lawsuits. Additionally, an LLC allows for **pass-through taxation**, which means the business profits are not taxed at the corporate level but instead pass through to the owners' personal tax returns, keeping your tax situation relatively simple. Let me know if you have any questions or need help setting up your LLC.\n",
    "==================================================\n",
    "Question: I want to start a community program that provides free coding classes for underprivileged students. I also want to apply for grants and accept donations. What’s the best business structure?\n",
    "==================================================\n",
    "A Non-Profit Organization is the best choice for your community program. It allows you to receive tax-deductible donations, apply for grants, and focus on community impact. To qualify, your organization must serve the public interest. This structure is ideal for organizations that aim to provide a social benefit to the community. Let me know if you need help with the 501(c)(3) registration process.\n",
    "==================================================\n",
    "Question: I’m launching an online retail store. I want liability protection and plan to hire employees in the future. Should I register as an LLC or an S-Corp?\n",
    "==================================================\n",
    "An LLC would be the better choice for your online retail store. It offers **liability protection**, meaning your personal assets are shielded from business debts and lawsuits. Additionally, an LLC is flexible in its management structure and can easily accommodate the hiring of employees in the future. If you're concerned about taxes, an LLC can also choose to be taxed as a pass-through entity, similar to an S-Corp, but with more flexibility and potential tax savings through deductions and losses. Would you like help with the next steps in setting up your LLC?\n",
    "==================================================\n",
    "Question: I’m opening a small catering business. I need liability protection and want to minimize taxes, but I also need flexibility in how I manage the business. What’s my best option?\n",
    "==================================================\n",
    "An LLC (Limited Liability Company) would be the best option for your catering business. It provides **liability protection**, meaning your personal assets are shielded from business debts and lawsuits. Additionally, an LLC allows for **flexible management structures**, which can be beneficial for a small business. Lastly, most LLCs are considered \"disregarded entities\" for tax purposes, meaning they offer **pass-through taxation**, which minimizes double taxation. This structure allows profits and losses to pass directly to the business owners' personal tax returns. Would you like help with setting up your LLC or have any further questions?\n",
    "==================================================\n",
    "Question: I want to start a social enterprise that sells eco-friendly products and donates a portion of profits to environmental charities. Should I form an LLC or a Non-Profit?\n",
    "==================================================\n",
    "An LLC could be a suitable option for your social enterprise. While a Non-Profit organization is primarily focused on serving the public interest and does not distribute profits to its owners, an LLC allows you to earn a profit and donate a portion to charities. This structure also offers liability protection for your personal assets. However, you may want to consider the tax implications and potential benefits of registering as a B-Corporation, which is specifically designed for businesses that balance profit with social and environmental impact. I recommend consulting with a business advisor or attorney to determine the best structure for your specific situation.\n",
    "=================================================="
   ]
  },
  {
   "cell_type": "markdown",
   "metadata": {},
   "source": [
    "## Prepping model for training"
   ]
  },
  {
   "cell_type": "code",
   "execution_count": 13,
   "metadata": {},
   "outputs": [],
   "source": [
    "model.train()\n",
    "\n",
    "model.gradient_checkpointing_enable()\n",
    "\n",
    "model = prepare_model_for_kbit_training(model)"
   ]
  },
  {
   "cell_type": "markdown",
   "metadata": {},
   "source": [
    "#### Set up QLoRA"
   ]
  },
  {
   "cell_type": "code",
   "execution_count": 14,
   "metadata": {},
   "outputs": [
    {
     "name": "stdout",
     "output_type": "stream",
     "text": [
      "trainable params: 2,097,152 || all params: 264,507,392 || trainable%: 0.7929\n"
     ]
    }
   ],
   "source": [
    "#LoRA config\n",
    "config = LoraConfig(r=8, lora_alpha=32, target_modules=[\"q_proj\"], lora_dropout=0.05, bias=\"none\", task_type=\"CAUSAL_LM\")\n",
    "\n",
    "# LoRA trainable version of model\n",
    "model = get_peft_model(model, config)\n",
    "\n",
    "# trainable parameter count\n",
    "model.print_trainable_parameters()\n",
    "\n"
   ]
  },
  {
   "cell_type": "code",
   "execution_count": 15,
   "metadata": {},
   "outputs": [
    {
     "data": {
      "application/vnd.jupyter.widget-view+json": {
       "model_id": "0403ecaaf8644429a51ddc6c43d52fda",
       "version_major": 2,
       "version_minor": 0
      },
      "text/plain": [
       "Generating train split: 0 examples [00:00, ? examples/s]"
      ]
     },
     "metadata": {},
     "output_type": "display_data"
    },
    {
     "data": {
      "application/vnd.jupyter.widget-view+json": {
       "model_id": "872559f3c69b469a8829704e1a91d82c",
       "version_major": 2,
       "version_minor": 0
      },
      "text/plain": [
       "Map:   0%|          | 0/558 [00:00<?, ? examples/s]"
      ]
     },
     "metadata": {},
     "output_type": "display_data"
    },
    {
     "data": {
      "application/vnd.jupyter.widget-view+json": {
       "model_id": "2efd9b5955d04909b7934272f49c2442",
       "version_major": 2,
       "version_minor": 0
      },
      "text/plain": [
       "Map:   0%|          | 0/62 [00:00<?, ? examples/s]"
      ]
     },
     "metadata": {},
     "output_type": "display_data"
    }
   ],
   "source": [
    "custom_data = load_dataset(\"json\", data_files=\"../../datasets/qa_pairs.json\")\n",
    "\n",
    "split_dataset = custom_data[\"train\"].train_test_split(test_size=0.1)\n",
    "\n",
    "def format_prompt(example):\n",
    "    instruction = example[\"instruction\"]\n",
    "    response = example[\"response\"]\n",
    "    prompt = f\"[INST] {instruction} [/INST]\"\n",
    "    \n",
    "    full_text = f\"{prompt}\\n{response}\"\n",
    "    return {\"example\": full_text}\n",
    "data = split_dataset.map(format_prompt).remove_columns([\"instruction\", \"response\"])\n",
    "#drop instruction and response columns\n",
    "\n"
   ]
  },
  {
   "cell_type": "code",
   "execution_count": 16,
   "metadata": {},
   "outputs": [
    {
     "name": "stdout",
     "output_type": "stream",
     "text": [
      "DatasetDict({\n",
      "    train: Dataset({\n",
      "        features: ['example'],\n",
      "        num_rows: 558\n",
      "    })\n",
      "    test: Dataset({\n",
      "        features: ['example'],\n",
      "        num_rows: 62\n",
      "    })\n",
      "})\n",
      "{'example': '[INST] How is an LLC dissolved? [/INST]\\nBy filing Articles of Dissolution with the  Secretary of State after member approval.'}\n",
      "==================================================\n",
      "{'example': '[INST] How are taxes handled in a sole proprietorship?\\u200b [/INST]\\nA sole proprietor reports all business revenues and expenses on their personal tax  return. The business itself does not pay separate taxes; instead, the owner pays taxes on the  business’s profits through their personal income tax.'}\n",
      "==================================================\n",
      "{'example': '[INST] Can a Washington LLC have a minor as a member? [/INST]\\nYes, but the minor’s rights may be limited until they reach the age of majority.'}\n",
      "==================================================\n",
      "{'example': '[INST] What does the legislature find regarding the business and occupation tax exemption  for corporate directors?\\u200b [/INST]\\nThe legislature finds that corporate directors are not employees or servants of the  corporation and are not entitled to a business and occupation tax exemption under RCW  82.04.360.'}\n",
      "==================================================\n",
      "{'example': '[INST] What are the main responsibilities of a registered agent? [/INST]\\nReceiving legal documents and notices on behalf of the LLC3.'}\n",
      "==================================================\n"
     ]
    }
   ],
   "source": [
    "print(data)\n",
    "# Print first 5 rows of the training dataset\n",
    "for i in range(5):\n",
    "    print(data[\"train\"][i])  # Prints each row\n",
    "    print(\"=\"*50)  # Separator for readability"
   ]
  },
  {
   "cell_type": "code",
   "execution_count": 17,
   "metadata": {},
   "outputs": [
    {
     "data": {
      "application/vnd.jupyter.widget-view+json": {
       "model_id": "6108d2998f6443e1b94f81555cc3f94e",
       "version_major": 2,
       "version_minor": 0
      },
      "text/plain": [
       "Map:   0%|          | 0/558 [00:00<?, ? examples/s]"
      ]
     },
     "metadata": {},
     "output_type": "display_data"
    },
    {
     "data": {
      "application/vnd.jupyter.widget-view+json": {
       "model_id": "c68a7ae7a6694fef8b7e6886eb9408d0",
       "version_major": 2,
       "version_minor": 0
      },
      "text/plain": [
       "Map:   0%|          | 0/62 [00:00<?, ? examples/s]"
      ]
     },
     "metadata": {},
     "output_type": "display_data"
    }
   ],
   "source": [
    "#create tokenize functoin\n",
    "def tokenize_function(examples):\n",
    "    #extract text\n",
    "    text = examples[\"example\"]\n",
    "    \n",
    "    #tokenize and truncate text\n",
    "    tokenizer.truncation_side = \"left\"\n",
    "    tokenized_inputs = tokenizer(text, return_tensors=\"np\", truncation=True, max_length=512)\n",
    "    \n",
    "    \n",
    "    return tokenized_inputs\n",
    "\n",
    "#tokenize training and validation data\n",
    "tokenized_data = data.map(tokenize_function, batched=True)"
   ]
  },
  {
   "cell_type": "code",
   "execution_count": 18,
   "metadata": {},
   "outputs": [],
   "source": [
    "#setting pad token\n",
    "tokenizer.pad_token = tokenizer.eos_token\n",
    "\n",
    "#data collator\n",
    "data_collator = transformers.DataCollatorForLanguageModeling(tokenizer=tokenizer, mlm=False)"
   ]
  },
  {
   "cell_type": "code",
   "execution_count": 19,
   "metadata": {},
   "outputs": [],
   "source": [
    "#hyperparameters\n",
    "lr = 2e-4\n",
    "batch_size = 4\n",
    "num_epochs = 10\n",
    "\n",
    "#define training args\n",
    "training_args = transformers.TrainingArguments(\n",
    "    output_dir=\"./output\",\n",
    "    learning_rate=lr,\n",
    "    per_device_train_batch_size=batch_size,\n",
    "    per_device_eval_batch_size=batch_size,\n",
    "    num_train_epochs=num_epochs,\n",
    "    weight_decay=0.01,\n",
    "    logging_strategy=\"epoch\",\n",
    "    evaluation_strategy=\"epoch\",\n",
    "    save_strategy=\"epoch\",\n",
    "    load_best_model_at_end=True,\n",
    "    gradient_accumulation_steps=4,\n",
    "    warmup_steps=2,\n",
    "    fp16=True,\n",
    "    optim=\"paged_adamw_8bit\"\n",
    "    )\n",
    "    "
   ]
  },
  {
   "cell_type": "code",
   "execution_count": 20,
   "metadata": {},
   "outputs": [
    {
     "data": {
      "text/html": [
       "\n",
       "    <div>\n",
       "      \n",
       "      <progress value='350' max='350' style='width:300px; height:20px; vertical-align: middle;'></progress>\n",
       "      [350/350 27:16, Epoch 10/10]\n",
       "    </div>\n",
       "    <table border=\"1\" class=\"dataframe\">\n",
       "  <thead>\n",
       " <tr style=\"text-align: left;\">\n",
       "      <th>Epoch</th>\n",
       "      <th>Training Loss</th>\n",
       "      <th>Validation Loss</th>\n",
       "    </tr>\n",
       "  </thead>\n",
       "  <tbody>\n",
       "    <tr>\n",
       "      <td>1</td>\n",
       "      <td>2.844400</td>\n",
       "      <td>1.630270</td>\n",
       "    </tr>\n",
       "    <tr>\n",
       "      <td>2</td>\n",
       "      <td>1.394400</td>\n",
       "      <td>1.406356</td>\n",
       "    </tr>\n",
       "    <tr>\n",
       "      <td>3</td>\n",
       "      <td>1.201500</td>\n",
       "      <td>1.375273</td>\n",
       "    </tr>\n",
       "    <tr>\n",
       "      <td>4</td>\n",
       "      <td>1.066500</td>\n",
       "      <td>1.374151</td>\n",
       "    </tr>\n",
       "    <tr>\n",
       "      <td>5</td>\n",
       "      <td>0.956400</td>\n",
       "      <td>1.388767</td>\n",
       "    </tr>\n",
       "    <tr>\n",
       "      <td>6</td>\n",
       "      <td>0.866300</td>\n",
       "      <td>1.450350</td>\n",
       "    </tr>\n",
       "    <tr>\n",
       "      <td>7</td>\n",
       "      <td>0.783100</td>\n",
       "      <td>1.521459</td>\n",
       "    </tr>\n",
       "    <tr>\n",
       "      <td>8</td>\n",
       "      <td>0.719800</td>\n",
       "      <td>1.610504</td>\n",
       "    </tr>\n",
       "    <tr>\n",
       "      <td>9</td>\n",
       "      <td>0.669600</td>\n",
       "      <td>1.669139</td>\n",
       "    </tr>\n",
       "    <tr>\n",
       "      <td>10</td>\n",
       "      <td>0.634400</td>\n",
       "      <td>1.714753</td>\n",
       "    </tr>\n",
       "  </tbody>\n",
       "</table><p>"
      ],
      "text/plain": [
       "<IPython.core.display.HTML object>"
      ]
     },
     "metadata": {},
     "output_type": "display_data"
    }
   ],
   "source": [
    "#configure trainer\n",
    "trainer = transformers.Trainer(\n",
    "    model=model,\n",
    "    train_dataset=tokenized_data[\"train\"],\n",
    "    eval_dataset=tokenized_data[\"test\"],\n",
    "    args=training_args,\n",
    "    data_collator=data_collator\n",
    "    )\n",
    "\n",
    "#train model\n",
    "model.config.use_cache = False\n",
    "trainer.train()\n",
    "\n",
    "# renable warnings\n",
    "model.config.use_cache = True"
   ]
  },
  {
   "cell_type": "code",
   "execution_count": 21,
   "metadata": {},
   "outputs": [
    {
     "data": {
      "text/plain": [
       "('./business_llm/tokenizer_config.json',\n",
       " './business_llm/special_tokens_map.json',\n",
       " './business_llm/tokenizer.model',\n",
       " './business_llm/added_tokens.json',\n",
       " './business_llm/tokenizer.json')"
      ]
     },
     "execution_count": 21,
     "metadata": {},
     "output_type": "execute_result"
    }
   ],
   "source": [
    "# Save Model & Tokenizer\n",
    "model.save_pretrained(\"./business_llm\")\n",
    "tokenizer.save_pretrained(\"./business_llm\")"
   ]
  },
  {
   "cell_type": "markdown",
   "metadata": {},
   "source": [
    "## Push Model and Tokenizer to HuggingFace"
   ]
  },
  {
   "cell_type": "code",
   "execution_count": 22,
   "metadata": {},
   "outputs": [],
   "source": [
    "if PUBLISH_TO_HUB:\n",
    "    repo_name = \"XCIT3D247/LegalEaseV1\"\n",
    "\n",
    "    # Load your fine-tuned model and tokenizer\n",
    "    model = AutoModelForCausalLM.from_pretrained(\"./business_llm\")\n",
    "    tokenizer = AutoTokenizer.from_pretrained(\"./business_llm\")\n",
    "\n",
    "    # Push model and tokenizer to Hugging Face Hub\n",
    "    model.push_to_hub(repo_name)\n",
    "    tokenizer.push_to_hub(repo_name)\n",
    "\n",
    "    print(f\"Model successfully uploaded to https://huggingface.co/{repo_name}\")"
   ]
  },
  {
   "cell_type": "code",
   "execution_count": 23,
   "metadata": {},
   "outputs": [],
   "source": [
    "#stop the model and remove it from the GPU\n",
    "model.cpu()\n",
    "model = None\n",
    "torch.cuda.empty_cache()"
   ]
  },
  {
   "cell_type": "code",
   "execution_count": 24,
   "metadata": {},
   "outputs": [
    {
     "name": "stderr",
     "output_type": "stream",
     "text": [
      "Some weights of the model checkpoint at TheBloke/Mistral-7B-Instruct-v0.2-GPTQ were not used when initializing MistralForCausalLM: {'model.layers.28.mlp.gate_proj.bias', 'model.layers.24.mlp.up_proj.bias', 'model.layers.10.self_attn.o_proj.bias', 'model.layers.25.mlp.up_proj.bias', 'model.layers.26.self_attn.v_proj.bias', 'model.layers.17.mlp.gate_proj.bias', 'model.layers.24.mlp.down_proj.bias', 'model.layers.22.self_attn.o_proj.bias', 'model.layers.1.self_attn.k_proj.bias', 'model.layers.4.mlp.up_proj.bias', 'model.layers.27.self_attn.v_proj.bias', 'model.layers.15.self_attn.k_proj.bias', 'model.layers.6.self_attn.q_proj.bias', 'model.layers.23.mlp.gate_proj.bias', 'model.layers.24.self_attn.v_proj.bias', 'model.layers.27.mlp.down_proj.bias', 'model.layers.23.self_attn.o_proj.bias', 'model.layers.13.self_attn.o_proj.bias', 'model.layers.24.self_attn.o_proj.bias', 'model.layers.14.mlp.up_proj.bias', 'model.layers.9.mlp.gate_proj.bias', 'model.layers.24.self_attn.k_proj.bias', 'model.layers.19.self_attn.k_proj.bias', 'model.layers.28.mlp.down_proj.bias', 'model.layers.7.mlp.up_proj.bias', 'model.layers.26.mlp.gate_proj.bias', 'model.layers.18.self_attn.q_proj.bias', 'model.layers.8.self_attn.v_proj.bias', 'model.layers.2.self_attn.v_proj.bias', 'model.layers.21.self_attn.q_proj.bias', 'model.layers.15.self_attn.o_proj.bias', 'model.layers.7.self_attn.v_proj.bias', 'model.layers.1.self_attn.v_proj.bias', 'model.layers.30.mlp.up_proj.bias', 'model.layers.5.mlp.gate_proj.bias', 'model.layers.6.mlp.up_proj.bias', 'model.layers.8.self_attn.k_proj.bias', 'model.layers.21.mlp.gate_proj.bias', 'model.layers.22.self_attn.v_proj.bias', 'model.layers.17.self_attn.k_proj.bias', 'model.layers.0.mlp.up_proj.bias', 'model.layers.30.self_attn.q_proj.bias', 'model.layers.7.mlp.gate_proj.bias', 'model.layers.25.self_attn.k_proj.bias', 'model.layers.18.self_attn.o_proj.bias', 'model.layers.22.mlp.up_proj.bias', 'model.layers.31.mlp.gate_proj.bias', 'model.layers.7.self_attn.o_proj.bias', 'model.layers.13.self_attn.q_proj.bias', 'model.layers.20.self_attn.k_proj.bias', 'model.layers.24.mlp.gate_proj.bias', 'model.layers.13.mlp.gate_proj.bias', 'model.layers.15.mlp.down_proj.bias', 'model.layers.21.self_attn.k_proj.bias', 'model.layers.29.self_attn.v_proj.bias', 'model.layers.1.self_attn.o_proj.bias', 'model.layers.2.mlp.down_proj.bias', 'model.layers.26.self_attn.k_proj.bias', 'model.layers.19.mlp.gate_proj.bias', 'model.layers.16.self_attn.k_proj.bias', 'model.layers.2.mlp.up_proj.bias', 'model.layers.3.self_attn.q_proj.bias', 'model.layers.28.self_attn.v_proj.bias', 'model.layers.4.self_attn.v_proj.bias', 'model.layers.1.mlp.gate_proj.bias', 'model.layers.12.mlp.gate_proj.bias', 'model.layers.18.self_attn.k_proj.bias', 'model.layers.12.self_attn.v_proj.bias', 'model.layers.25.self_attn.o_proj.bias', 'model.layers.20.self_attn.o_proj.bias', 'model.layers.2.mlp.gate_proj.bias', 'model.layers.23.mlp.up_proj.bias', 'model.layers.0.self_attn.k_proj.bias', 'model.layers.29.self_attn.k_proj.bias', 'model.layers.20.self_attn.v_proj.bias', 'model.layers.30.self_attn.v_proj.bias', 'model.layers.2.self_attn.q_proj.bias', 'model.layers.16.self_attn.q_proj.bias', 'model.layers.1.mlp.down_proj.bias', 'model.layers.11.self_attn.v_proj.bias', 'model.layers.8.mlp.gate_proj.bias', 'model.layers.24.self_attn.q_proj.bias', 'model.layers.2.self_attn.k_proj.bias', 'model.layers.15.self_attn.q_proj.bias', 'model.layers.29.mlp.down_proj.bias', 'model.layers.6.mlp.gate_proj.bias', 'model.layers.20.mlp.down_proj.bias', 'model.layers.15.mlp.up_proj.bias', 'model.layers.9.self_attn.k_proj.bias', 'model.layers.1.self_attn.q_proj.bias', 'model.layers.7.self_attn.q_proj.bias', 'model.layers.22.mlp.down_proj.bias', 'model.layers.25.mlp.gate_proj.bias', 'model.layers.23.self_attn.q_proj.bias', 'model.layers.26.mlp.up_proj.bias', 'model.layers.30.mlp.down_proj.bias', 'model.layers.25.mlp.down_proj.bias', 'model.layers.27.self_attn.q_proj.bias', 'model.layers.0.mlp.down_proj.bias', 'model.layers.10.self_attn.v_proj.bias', 'model.layers.15.self_attn.v_proj.bias', 'model.layers.6.mlp.down_proj.bias', 'model.layers.0.self_attn.o_proj.bias', 'model.layers.10.self_attn.k_proj.bias', 'model.layers.19.self_attn.q_proj.bias', 'model.layers.16.self_attn.o_proj.bias', 'model.layers.20.mlp.gate_proj.bias', 'model.layers.31.mlp.up_proj.bias', 'model.layers.12.self_attn.o_proj.bias', 'model.layers.23.self_attn.k_proj.bias', 'model.layers.3.self_attn.o_proj.bias', 'model.layers.12.self_attn.q_proj.bias', 'model.layers.29.mlp.up_proj.bias', 'model.layers.17.self_attn.q_proj.bias', 'model.layers.9.self_attn.o_proj.bias', 'model.layers.29.self_attn.q_proj.bias', 'model.layers.6.self_attn.v_proj.bias', 'model.layers.10.self_attn.q_proj.bias', 'model.layers.26.mlp.down_proj.bias', 'model.layers.21.self_attn.o_proj.bias', 'model.layers.6.self_attn.o_proj.bias', 'model.layers.11.self_attn.o_proj.bias', 'model.layers.30.mlp.gate_proj.bias', 'model.layers.16.mlp.up_proj.bias', 'model.layers.14.self_attn.k_proj.bias', 'model.layers.7.self_attn.k_proj.bias', 'model.layers.4.self_attn.q_proj.bias', 'model.layers.8.self_attn.q_proj.bias', 'model.layers.27.self_attn.k_proj.bias', 'model.layers.30.self_attn.o_proj.bias', 'model.layers.25.self_attn.v_proj.bias', 'model.layers.11.mlp.up_proj.bias', 'model.layers.28.mlp.up_proj.bias', 'model.layers.12.mlp.up_proj.bias', 'model.layers.27.mlp.up_proj.bias', 'model.layers.0.mlp.gate_proj.bias', 'model.layers.5.self_attn.q_proj.bias', 'model.layers.13.mlp.down_proj.bias', 'model.layers.16.mlp.down_proj.bias', 'model.layers.21.mlp.down_proj.bias', 'model.layers.10.mlp.down_proj.bias', 'model.layers.3.self_attn.v_proj.bias', 'model.layers.14.mlp.gate_proj.bias', 'model.layers.25.self_attn.q_proj.bias', 'model.layers.26.self_attn.q_proj.bias', 'model.layers.31.self_attn.v_proj.bias', 'model.layers.28.self_attn.o_proj.bias', 'model.layers.28.self_attn.q_proj.bias', 'model.layers.8.mlp.up_proj.bias', 'model.layers.3.self_attn.k_proj.bias', 'model.layers.1.mlp.up_proj.bias', 'model.layers.5.mlp.up_proj.bias', 'model.layers.17.self_attn.o_proj.bias', 'model.layers.31.self_attn.q_proj.bias', 'model.layers.15.mlp.gate_proj.bias', 'model.layers.5.self_attn.o_proj.bias', 'model.layers.16.self_attn.v_proj.bias', 'model.layers.21.self_attn.v_proj.bias', 'model.layers.28.self_attn.k_proj.bias', 'model.layers.11.mlp.gate_proj.bias', 'model.layers.20.self_attn.q_proj.bias', 'model.layers.27.self_attn.o_proj.bias', 'model.layers.11.mlp.down_proj.bias', 'model.layers.13.mlp.up_proj.bias', 'model.layers.8.self_attn.o_proj.bias', 'model.layers.18.mlp.up_proj.bias', 'model.layers.18.self_attn.v_proj.bias', 'model.layers.3.mlp.gate_proj.bias', 'model.layers.10.mlp.up_proj.bias', 'model.layers.30.self_attn.k_proj.bias', 'model.layers.21.mlp.up_proj.bias', 'model.layers.9.mlp.down_proj.bias', 'model.layers.5.self_attn.k_proj.bias', 'model.layers.14.self_attn.o_proj.bias', 'model.layers.31.self_attn.o_proj.bias', 'model.layers.17.mlp.down_proj.bias', 'model.layers.4.mlp.down_proj.bias', 'model.layers.9.mlp.up_proj.bias', 'model.layers.31.self_attn.k_proj.bias', 'model.layers.17.self_attn.v_proj.bias', 'model.layers.6.self_attn.k_proj.bias', 'model.layers.19.mlp.down_proj.bias', 'model.layers.10.mlp.gate_proj.bias', 'model.layers.22.self_attn.k_proj.bias', 'model.layers.26.self_attn.o_proj.bias', 'model.layers.3.mlp.down_proj.bias', 'model.layers.4.mlp.gate_proj.bias', 'model.layers.14.self_attn.q_proj.bias', 'model.layers.17.mlp.up_proj.bias', 'model.layers.16.mlp.gate_proj.bias', 'model.layers.12.mlp.down_proj.bias', 'model.layers.5.mlp.down_proj.bias', 'model.layers.9.self_attn.v_proj.bias', 'model.layers.18.mlp.down_proj.bias', 'model.layers.0.self_attn.v_proj.bias', 'model.layers.27.mlp.gate_proj.bias', 'model.layers.4.self_attn.o_proj.bias', 'model.layers.4.self_attn.k_proj.bias', 'model.layers.2.self_attn.o_proj.bias', 'model.layers.11.self_attn.q_proj.bias', 'model.layers.19.self_attn.v_proj.bias', 'model.layers.29.self_attn.o_proj.bias', 'model.layers.22.mlp.gate_proj.bias', 'model.layers.12.self_attn.k_proj.bias', 'model.layers.13.self_attn.k_proj.bias', 'model.layers.0.self_attn.q_proj.bias', 'model.layers.31.mlp.down_proj.bias', 'model.layers.20.mlp.up_proj.bias', 'model.layers.7.mlp.down_proj.bias', 'model.layers.22.self_attn.q_proj.bias', 'model.layers.14.self_attn.v_proj.bias', 'model.layers.19.self_attn.o_proj.bias', 'model.layers.3.mlp.up_proj.bias', 'model.layers.18.mlp.gate_proj.bias', 'model.layers.13.self_attn.v_proj.bias', 'model.layers.11.self_attn.k_proj.bias', 'model.layers.14.mlp.down_proj.bias', 'model.layers.23.mlp.down_proj.bias', 'model.layers.23.self_attn.v_proj.bias', 'model.layers.5.self_attn.v_proj.bias', 'model.layers.19.mlp.up_proj.bias', 'model.layers.9.self_attn.q_proj.bias', 'model.layers.29.mlp.gate_proj.bias', 'model.layers.8.mlp.down_proj.bias'}\n",
      "- This IS expected if you are initializing MistralForCausalLM from the checkpoint of a model trained on another task or with another architecture (e.g. initializing a BertForSequenceClassification model from a BertForPreTraining model).\n",
      "- This IS NOT expected if you are initializing MistralForCausalLM from the checkpoint of a model that you expect to be exactly identical (initializing a BertForSequenceClassification model from a BertForSequenceClassification model).\n"
     ]
    },
    {
     "name": "stdout",
     "output_type": "stream",
     "text": [
      "Question: I want to start a foodbank in Washington, how do I?\n",
      "==================================================\n",
      "To begin, you need to register as a Non-Profit with the Washington Secretary of State. This will allow you to apply for tax-exempt status under IRS 501(c)(3). You'll need to provide details about your organization's mission, structure, and finances. Once registered, you can start fundraising and applying for grants. If you have any questions, feel free to ask.\n",
      "==================================================\n",
      "Question: I’m planning to start a freelance software development business. I want to protect my personal assets and keep my taxes simple. What business structure should I choose?\n",
      "==================================================\n",
      "An LLC is the best choice for you. It offers **liability protection**, meaning your personal assets are safe, and it allows **pass-through taxation**, so profits aren't taxed twice. Additionally, as a freelancer, you may be eligible for certain tax benefits, such as the ability to deduct business expenses. Would you like help with the next steps?\n",
      "==================================================\n",
      "Question: I want to start a community program that provides free coding classes for underprivileged students. I also want to apply for grants and accept donations. What’s the best business structure?\n",
      "==================================================\n",
      "A Non-Profit is the best choice for your mission. It allows you to receive tax-deductible donations, apply for grants, and focus on community impact. To qualify, your organization must serve the public interest. Do you need help with 501(c)(3) registration?\n",
      "==================================================\n",
      "Question: I’m launching an online retail store. I want liability protection and plan to hire employees in the future. Should I register as an LLC or an S-Corp?\n",
      "==================================================\n",
      "An LLC would be the best choice for you. It offers **liability protection** and allows you to hire employees without exposing your personal assets. If you plan to pay yourself a salary, you can also reduce self-employment taxes. However, if you want to issue stock or have more complex ownership, an S-Corp might be a better fit. Let me know if you need help with the registration process.\n",
      "\n",
      "If you plan to hire employees, it's important to consider the tax implications of their employment. An LLC can hire employees and pay them salaries, which can help reduce self-employment taxes. If you plan to issue stock or have more complex ownership, an S-Corp might be a better fit.\n",
      "\n",
      "If you plan to hire employees, you'll need to consider the tax implications of their employment. An LLC can hire employees and pay them salaries, which can help reduce self-employment taxes. However, if you plan to issue stock or have more complex ownership, an S-Corp might be a better fit.\n",
      "\n",
      "If you plan to hire employees, you'll need to consider the tax implications of their employment. An LLC can hire employees and pay them salaries, which can help reduce self-employment taxes. However, if you plan to issue stock or have more complex ownership, an S-Corp might be a better fit.\n",
      "\n",
      "If you plan to hire employees, you'll need to consider the tax implications of their employment. An LLC can hire employees and pay them salaries, which can help reduce self-employment taxes. However, if you plan to issue stock or have more complex ownership, an S-Corp might be a better fit.\n",
      "\n",
      "If you plan to hire employees, you'll need to consider the tax implications of their employment. An LLC can hire employees and pay them salaries, which can help reduce self-employment taxes. However, if you plan to issue stock or have more complex ownership, an S-Corp might be a better fit.\n",
      "\n",
      "If you plan to hire employees, you'll need to consider the tax implications of their employment. An LLC can hire employees and pay them salaries, which can help reduce self-employment taxes. However, if you plan to issue stock or have more complex ownership, an S-Corp might be a better fit.\n",
      "\n",
      "If you plan to hire\n",
      "==================================================\n",
      "Question: I’m opening a small catering business. I need liability protection and want to minimize taxes, but I also need flexibility in how I manage the business. What’s my best option?\n",
      "==================================================\n",
      "An LLC would be the best choice for you. It offers **liability protection**, meaning your personal assets are safe, and it allows you to pay yourself a salary, reducing self-employment taxes. Additionally, an LLC can be managed in various ways, giving you flexibility in ownership and management. Would you like help with the next steps?\n",
      "==================================================\n",
      "Question: I want to start a social enterprise that sells eco-friendly products and donates a portion of profits to environmental charities. Should I form an LLC or a Non-Profit?\n",
      "==================================================\n",
      "An LLC would be a good choice for your social enterprise. It offers **liability protection** and allows you to **donate a portion of profits** to charities while maintaining control over business operations. You can also register as a B-Corporation to emphasize your social mission. Would you like help with the formation process?\n",
      "==================================================\n"
     ]
    }
   ],
   "source": [
    "\n",
    "# Load Base Model\n",
    "base_model_name = \"TheBloke/Mistral-7B-Instruct-v0.2-GPTQ\"\n",
    "base_model = AutoModelForCausalLM.from_pretrained(base_model_name, device_map=\"auto\")\n",
    "\n",
    "# Load Fine-Tuned Adapter\n",
    "model = PeftModel.from_pretrained(base_model, \"./business_llm\")\n",
    "\n",
    "# Load Tokenizer\n",
    "tokenizer = AutoTokenizer.from_pretrained(\"./business_llm\", use_fast=True)\n",
    "\n",
    "#test the model\n",
    "Q_A(comments, model)\n"
   ]
  },
  {
   "cell_type": "markdown",
   "metadata": {},
   "source": [
    "Question: I want to start a foodbank in Washington, how do I?\n",
    "==================================================\n",
    "To begin, you need to register as a Non-Profit with the Washington Secretary of State. This will allow you to apply for tax-exempt status under IRS 501(c)(3). You'll need to provide details about your organization's mission, structure, and finances. Once registered, you can start fundraising and applying for grants. If you have any questions, feel free to ask.\n",
    "==================================================\n",
    "Question: I’m planning to start a freelance software development business. I want to protect my personal assets and keep my taxes simple. What business structure should I choose?\n",
    "==================================================\n",
    "An LLC is the best choice for you. It offers **liability protection**, meaning your personal assets are safe, and it allows **pass-through taxation**, so profits aren't taxed twice. Additionally, as a freelancer, you may be eligible for certain tax benefits, such as the ability to deduct business expenses. Would you like help with the next steps?\n",
    "==================================================\n",
    "Question: I want to start a community program that provides free coding classes for underprivileged students. I also want to apply for grants and accept donations. What’s the best business structure?\n",
    "==================================================\n",
    "A Non-Profit is the best choice for your mission. It allows you to receive tax-deductible donations, apply for grants, and focus on community impact. To qualify, your organization must serve the public interest. Do you need help with 501(c)(3) registration?\n",
    "==================================================\n",
    "Question: I’m launching an online retail store. I want liability protection and plan to hire employees in the future. Should I register as an LLC or an S-Corp?\n",
    "==================================================\n",
    "An LLC would be the best choice for you. It offers **liability protection** and allows you to hire employees without exposing your personal assets. If you plan to pay yourself a salary, you can also reduce self-employment taxes. However, if you want to issue stock or have more complex ownership, an S-Corp might be a better fit. Let me know if you need help with the registration process.\n",
    "\n",
    "If you plan to hire employees, it's important to consider the tax implications of their employment. An LLC can hire employees and pay them salaries, which can help reduce self-employment taxes. If you plan to issue stock or have more complex ownership, an S-Corp might be a better fit.\n",
    "\n",
    "If you plan to hire employees, you'll need to consider the tax implications of their employment. An LLC can hire employees and pay them salaries, which can help reduce self-employment taxes. However, if you plan to issue stock or have more complex ownership, an S-Corp might be a better fit.\n",
    "\n",
    "If you plan to hire employees, you'll need to consider the tax implications of their employment. An LLC can hire employees and pay them salaries, which can help reduce self-employment taxes. However, if you plan to issue stock or have more complex ownership, an S-Corp might be a better fit.\n",
    "\n",
    "If you plan to hire employees, you'll need to consider the tax implications of their employment. An LLC can hire employees and pay them salaries, which can help reduce self-employment taxes. However, if you plan to issue stock or have more complex ownership, an S-Corp might be a better fit.\n",
    "\n",
    "If you plan to hire employees, you'll need to consider the tax implications of their employment. An LLC can hire employees and pay them salaries, which can help reduce self-employment taxes. However, if you plan to issue stock or have more complex ownership, an S-Corp might be a better fit.\n",
    "\n",
    "If you plan to hire employees, you'll need to consider the tax implications of their employment. An LLC can hire employees and pay them salaries, which can help reduce self-employment taxes. However, if you plan to issue stock or have more complex ownership, an S-Corp might be a better fit.\n",
    "\n",
    "If you plan to hire\n",
    "==================================================\n",
    "Question: I’m opening a small catering business. I need liability protection and want to minimize taxes, but I also need flexibility in how I manage the business. What’s my best option?\n",
    "==================================================\n",
    "An LLC would be the best choice for you. It offers **liability protection**, meaning your personal assets are safe, and it allows you to pay yourself a salary, reducing self-employment taxes. Additionally, an LLC can be managed in various ways, giving you flexibility in ownership and management. Would you like help with the next steps?\n",
    "==================================================\n",
    "Question: I want to start a social enterprise that sells eco-friendly products and donates a portion of profits to environmental charities. Should I form an LLC or a Non-Profit?\n",
    "==================================================\n",
    "An LLC would be a good choice for your social enterprise. It offers **liability protection** and allows you to **donate a portion of profits** to charities while maintaining control over business operations. You can also register as a B-Corporation to emphasize your social mission. Would you like help with the formation process?\n",
    "=================================================="
   ]
  },
  {
   "cell_type": "markdown",
   "metadata": {},
   "source": []
  }
 ],
 "metadata": {
  "kernelspec": {
   "display_name": "LegalEase",
   "language": "python",
   "name": "python3"
  },
  "language_info": {
   "codemirror_mode": {
    "name": "ipython",
    "version": 3
   },
   "file_extension": ".py",
   "mimetype": "text/x-python",
   "name": "python",
   "nbconvert_exporter": "python",
   "pygments_lexer": "ipython3",
   "version": "3.11.0rc1"
  }
 },
 "nbformat": 4,
 "nbformat_minor": 2
}

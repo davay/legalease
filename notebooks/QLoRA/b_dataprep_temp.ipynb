{
 "cells": [
  {
   "cell_type": "code",
   "execution_count": 25,
   "metadata": {},
   "outputs": [],
   "source": [
    "import os\n",
    "import json\n",
    "import google.generativeai as genai\n",
    "from dotenv import load_dotenv\n",
    "from tqdm import tqdm  # Progress bar\n",
    "import time\n"
   ]
  },
  {
   "cell_type": "code",
   "execution_count": 26,
   "metadata": {},
   "outputs": [],
   "source": [
    "# Load environment variables (Ensure .env contains GOOGLE_API_KEY)\n",
    "load_dotenv()\n",
    "google_api_key = os.getenv(\"GOOGLE_API_KEY\")"
   ]
  },
  {
   "cell_type": "code",
   "execution_count": 27,
   "metadata": {},
   "outputs": [],
   "source": [
    "# Initialize Gemini API\n",
    "genai.configure(api_key=google_api_key)\n",
    "model = genai.GenerativeModel(\"gemini-1.5-flash\")  # Use Gemini Pro 1.5"
   ]
  },
  {
   "cell_type": "code",
   "execution_count": 28,
   "metadata": {},
   "outputs": [],
   "source": [
    "# Input and output file names\n",
    "input_file = \"../../datasets/qa_pairs.json\"\n",
    "output_file = \"./my_dataset1.jsonl\""
   ]
  },
  {
   "cell_type": "code",
   "execution_count": 29,
   "metadata": {},
   "outputs": [],
   "source": [
    "system_message = (\n",
    "    \"You are an expert business consultant specializing in Washington state business laws and benefits. \"\n",
    "    \"Help users choose the best business structure: LLC, Non-Profit, or S-Corp. \"\n",
    "    \"Ask clarifying questions to understand their goals, liability concerns, tax preferences, and operational structure. \"\n",
    "    \"Provide recommendations with clear reasoning, considering Washington-specific tax laws, registration requirements, and business incentives. \"\n",
    "    \"Avoid suggesting General Partnerships, Sole Proprietorships, or C-Corps.\"\n",
    ")\n"
   ]
  },
  {
   "cell_type": "code",
   "execution_count": 30,
   "metadata": {},
   "outputs": [
    {
     "name": "stderr",
     "output_type": "stream",
     "text": [
      "Enhancing Responses: 100%|██████████| 620/620 [1:10:40<00:00,  6.84s/pair]"
     ]
    },
    {
     "name": "stdout",
     "output_type": "stream",
     "text": [
      "\n",
      "✅ Fine-tuning dataset saved to ./my_dataset1.jsonl\n"
     ]
    },
    {
     "name": "stderr",
     "output_type": "stream",
     "text": [
      "\n"
     ]
    }
   ],
   "source": [
    "# Load entire JSON file as an array\n",
    "with open(input_file, \"r\", encoding=\"utf-8\") as f:\n",
    "    entries = json.load(f)  # Read the full JSON array\n",
    "\n",
    "# Open output file for writing JSONL\n",
    "with open(output_file, \"w\", encoding=\"utf-8\") as fout:\n",
    "    for entry in tqdm(entries, desc=\"Enhancing Responses\", unit=\"pair\"):\n",
    "        user_message = entry[\"instruction\"]\n",
    "\n",
    "        # Generate response using Gemini\n",
    "        response = model.generate_content([\n",
    "            {\"role\": \"user\", \"parts\": [{\"text\": user_message}]}\n",
    "        ])\n",
    "\n",
    "        # Extract generated text\n",
    "        enhanced_response = response.text if response.text else \"Error: No response generated\"\n",
    "\n",
    "        # Format for Mistral fine-tuning\n",
    "        mistral_entry = {\n",
    "            \"messages\": [\n",
    "                {\"role\": \"system\", \"content\": system_message},\n",
    "                {\"role\": \"user\", \"content\": user_message},\n",
    "                {\"role\": \"assistant\", \"content\": enhanced_response}\n",
    "            ]\n",
    "        }\n",
    "        time.sleep(4.2)\n",
    "        # Write each JSON object as a separate line in JSONL format\n",
    "        fout.write(json.dumps(mistral_entry) + \"\\n\")\n",
    "\n",
    "print(f\"\\n✅ Fine-tuning dataset saved to {output_file}\")"
   ]
  },
  {
   "cell_type": "code",
   "execution_count": null,
   "metadata": {},
   "outputs": [],
   "source": []
  },
  {
   "cell_type": "code",
   "execution_count": null,
   "metadata": {},
   "outputs": [
    {
     "name": "stdout",
     "output_type": "stream",
     "text": [
      "Converted JSONL to JSON and saved to ./my_dataset.json\n"
     ]
    }
   ],
   "source": [
    "\n",
    "# Input and output file names\n",
    "input_file = \"./business_qlora.jsonl\"\n",
    "output_file = \"./my_dataset.json\"\n",
    "\n",
    "data = []\n",
    "system_string = \"You are an expert business consultant helping users choose the best business structure: LLC, Non-Profit, or S-Corp. Ask clarifying questions if needed, analyze their needs, and recommend the best option with clear reasoning. Avoid suggesting General Partnerships, Sole Proprietorships, or C-Corps.\"\n",
    "\n",
    "# Read JSONL file and convert it to the required format\n",
    "with open(input_file, \"r\", encoding=\"utf-8\") as f:\n",
    "    for line in f:\n",
    "        entry = json.loads(line.strip())\n",
    "        formatted_entry = {\n",
    "            \"messages\": [\n",
    "                {\"role\": \"user\", \"content\": entry[\"instruction\"]},  # Fix: \"context\" → \"content\"\n",
    "                {\"role\": \"assistant\", \"content\": entry[\"response\"]}  # Fix: \"context\" → \"content\"\n",
    "            ]\n",
    "        }\n",
    "        data.append(formatted_entry)\n",
    "\n",
    "# Write the formatted data to a JSON file\n",
    "with open(output_file, \"w\", encoding=\"utf-8\") as f:\n",
    "    json.dump(data, f, indent=4)\n",
    "\n",
    "print(f\"Converted JSONL to JSON and saved to {output_file}\")\n"
   ]
  },
  {
   "cell_type": "code",
   "execution_count": null,
   "metadata": {},
   "outputs": [],
   "source": []
  }
 ],
 "metadata": {
  "kernelspec": {
   "display_name": "venv",
   "language": "python",
   "name": "python3"
  },
  "language_info": {
   "codemirror_mode": {
    "name": "ipython",
    "version": 3
   },
   "file_extension": ".py",
   "mimetype": "text/x-python",
   "name": "python",
   "nbconvert_exporter": "python",
   "pygments_lexer": "ipython3",
   "version": "3.11.11"
  }
 },
 "nbformat": 4,
 "nbformat_minor": 2
}

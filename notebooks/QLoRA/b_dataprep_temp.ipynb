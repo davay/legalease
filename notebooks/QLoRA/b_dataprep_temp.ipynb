{
 "cells": [
  {
   "cell_type": "code",
   "execution_count": 8,
   "metadata": {},
   "outputs": [],
   "source": [
    "import json\n"
   ]
  },
  {
   "cell_type": "code",
   "execution_count": 9,
   "metadata": {},
   "outputs": [
    {
     "name": "stdout",
     "output_type": "stream",
     "text": [
      "Converted JSONL to JSON and saved to ./my_dataset.json\n"
     ]
    }
   ],
   "source": [
    "\n",
    "# Input and output file names\n",
    "input_file = \"./business_qlora.jsonl\"\n",
    "output_file = \"./my_dataset.json\"\n",
    "\n",
    "data = []\n",
    "system_string = \"You are an expert business consultant helping users choose the best business structure: LLC, Non-Profit, or S-Corp. Ask clarifying questions if needed, analyze their needs, and recommend the best option with clear reasoning. Avoid suggesting General Partnerships, Sole Proprietorships, or C-Corps.\"\n",
    "\n",
    "# Read JSONL file and convert it to the required format\n",
    "with open(input_file, \"r\", encoding=\"utf-8\") as f:\n",
    "    for line in f:\n",
    "        entry = json.loads(line.strip())\n",
    "        formatted_entry = {\n",
    "            \"messages\": [\n",
    "                {\"role\": \"system\", \"content\": system_string},  # Fix: \"context\" → \"content\"\n",
    "                {\"role\": \"user\", \"content\": entry[\"instruction\"]},  # Fix: \"context\" → \"content\"\n",
    "                {\"role\": \"assistant\", \"content\": entry[\"response\"]}  # Fix: \"context\" → \"content\"\n",
    "            ]\n",
    "        }\n",
    "        data.append(formatted_entry)\n",
    "\n",
    "# Write the formatted data to a JSON file\n",
    "with open(output_file, \"w\", encoding=\"utf-8\") as f:\n",
    "    json.dump(data, f, indent=4)\n",
    "\n",
    "print(f\"Converted JSONL to JSON and saved to {output_file}\")\n"
   ]
  },
  {
   "cell_type": "code",
   "execution_count": null,
   "metadata": {},
   "outputs": [],
   "source": []
  }
 ],
 "metadata": {
  "kernelspec": {
   "display_name": "venv",
   "language": "python",
   "name": "python3"
  },
  "language_info": {
   "codemirror_mode": {
    "name": "ipython",
    "version": 3
   },
   "file_extension": ".py",
   "mimetype": "text/x-python",
   "name": "python",
   "nbconvert_exporter": "python",
   "pygments_lexer": "ipython3",
   "version": "3.11.11"
  }
 },
 "nbformat": 4,
 "nbformat_minor": 2
}

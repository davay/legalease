{
 "cells": [
  {
   "cell_type": "code",
   "execution_count": 1,
   "metadata": {},
   "outputs": [],
   "source": [
    "import json\n",
    "\n"
   ]
  },
  {
   "cell_type": "code",
   "execution_count": 3,
   "metadata": {},
   "outputs": [
    {
     "name": "stdout",
     "output_type": "stream",
     "text": [
      "Converted JSONL to JSON and saved to ./my_dataset.json\n"
     ]
    }
   ],
   "source": [
    "# Input and output file names\n",
    "input_file = \"./business_qlora.jsonl\"\n",
    "output_file = \"./my_dataset.json\"\n",
    "\n",
    "data = []\n",
    "\n",
    "# Read JSONL file and convert it to the required format\n",
    "with open(input_file, \"r\", encoding=\"utf-8\") as f:\n",
    "    for line in f:\n",
    "        entry = json.loads(line.strip())\n",
    "        formatted_entry = {\n",
    "            \"conversations\": [\n",
    "                {\"from\": \"human\", \"value\": entry[\"instruction\"]},\n",
    "                {\"from\": \"gpt\", \"value\": entry[\"response\"]}\n",
    "            ]\n",
    "        }\n",
    "        data.append(formatted_entry)\n",
    "\n",
    "# Write the formatted data to a JSON file\n",
    "with open(output_file, \"w\", encoding=\"utf-8\") as f:\n",
    "    json.dump(data, f, indent=4)\n",
    "\n",
    "print(f\"Converted JSONL to JSON and saved to {output_file}\")\n"
   ]
  }
 ],
 "metadata": {
  "kernelspec": {
   "display_name": "LegalEaseWSL",
   "language": "python",
   "name": "python3"
  },
  "language_info": {
   "codemirror_mode": {
    "name": "ipython",
    "version": 3
   },
   "file_extension": ".py",
   "mimetype": "text/x-python",
   "name": "python",
   "nbconvert_exporter": "python",
   "pygments_lexer": "ipython3",
   "version": "3.11.11"
  }
 },
 "nbformat": 4,
 "nbformat_minor": 2
}

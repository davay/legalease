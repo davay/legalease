{
 "cells": [
  {
   "cell_type": "markdown",
   "metadata": {},
   "source": [
    "## Install Libraries"
   ]
  },
  {
   "cell_type": "code",
   "execution_count": 1,
   "metadata": {},
   "outputs": [],
   "source": [
    "#load the pdfs from the folder and convert them to text and do eda for llm dataset\n",
    "import os\n",
    "import fitz\n",
    "import pandas as pd\n"
   ]
  },
  {
   "cell_type": "markdown",
   "metadata": {},
   "source": [
    "## Load PDF's directories in"
   ]
  },
  {
   "cell_type": "code",
   "execution_count": 2,
   "metadata": {},
   "outputs": [],
   "source": [
    "# Load the PDFs from the folder\n",
    "def load_pdfs(folders):\n",
    "    pdfs = []\n",
    "    for folder_path in folders:\n",
    "        for filename in os.listdir(folder_path):\n",
    "            if filename.endswith('.pdf'):\n",
    "                pdfs.append(filename)\n",
    "    return pdfs"
   ]
  },
  {
   "cell_type": "markdown",
   "metadata": {},
   "source": [
    "## Translate PDF to text format"
   ]
  },
  {
   "cell_type": "code",
   "execution_count": 3,
   "metadata": {},
   "outputs": [],
   "source": [
    "# Convert the PDFs to text\n",
    "def convert_pdf_to_text(folder_path, pdf):\n",
    "    pdf_file_path = os.path.join(folder_path, pdf)\n",
    "    doc = fitz.open(pdf_file_path)\n",
    "    text = ''\n",
    "    for page in doc:\n",
    "        text += page.get_text()\n",
    "    return text"
   ]
  },
  {
   "cell_type": "code",
   "execution_count": 4,
   "metadata": {},
   "outputs": [],
   "source": [
    "# Folder containing PDFs\n",
    "folder_path = ['..\\..\\datasets\\\\raw_ordered\\\\business_forms', '..\\..\\datasets\\\\raw_ordered\\\\in_scope_forms', '..\\..\\datasets\\\\raw_ordered\\\\other_forms']\n"
   ]
  },
  {
   "cell_type": "code",
   "execution_count": 5,
   "metadata": {},
   "outputs": [
    {
     "name": "stdout",
     "output_type": "stream",
     "text": [
      "['Apply for a business license _ Washington Department of Revenue.pdf', 'Choose an ownership structure _ Washington Department of Revenue.pdf', 'Frequently Asked Questions by Donors _ WA Secretary of State.pdf', 'Nonprofit organizations _ Washington Department of Revenue.pdf', 'RCW 82.04.pdf', 'small_business_guide.pdf', 'Temporary businesses _ Washington Department of Revenue.pdf', 'WAC 458-20-145_.pdf', 'Articles of Incorporation (WA).pdf', 'ARTICLES OF INCORPORATION NONPROFIT Corp.pdf', 'Business License application.pdf', 'Bylaws (WA).pdf', 'CERTIFICATE OF FORMATION OF A LLC.pdf', '- CERTIFICATE OF DISSOLUTION OF A LLC.pdf', 'AMENDED CERTIFICATE OF FORMATION OF A LLC.pdf', 'AMENDED CERTIFICATE OF LLP.pdf', 'ARTICLES OF AMENDMENT NONPROFIT Corp.pdf', 'Business Entity Comparison Chart (WA).pdf', 'Business Information Change Form.pdf', 'CERTIFICATE OF A LLP.pdf', 'Employer Identification Number.pdf', 'Order 25700-B-721.pdf', 'REQUEST FOR TAX STATUS.pdf', 'STATEMENT OF CORRECTION.pdf', 'STATEMENT OF WITHDRAWAL OF FILED RECORD BEFORE EFFECTIVE.pdf', 'VOLUNTARY WITHDRAWAL OF LLP.pdf', 'Withdrawal or Dissolution of a Corporation and Guaranty.pdf']\n"
     ]
    }
   ],
   "source": [
    "# Load the PDFs\n",
    "pdfs = load_pdfs(folder_path)\n",
    "print(pdfs)"
   ]
  },
  {
   "cell_type": "code",
   "execution_count": 6,
   "metadata": {},
   "outputs": [
    {
     "ename": "TypeError",
     "evalue": "expected str, bytes or os.PathLike object, not list",
     "output_type": "error",
     "traceback": [
      "\u001b[1;31m---------------------------------------------------------------------------\u001b[0m",
      "\u001b[1;31mTypeError\u001b[0m                                 Traceback (most recent call last)",
      "Cell \u001b[1;32mIn[6], line 4\u001b[0m\n\u001b[0;32m      2\u001b[0m texts \u001b[38;5;241m=\u001b[39m []\n\u001b[0;32m      3\u001b[0m \u001b[38;5;28;01mfor\u001b[39;00m pdf \u001b[38;5;129;01min\u001b[39;00m pdfs:\n\u001b[1;32m----> 4\u001b[0m     text \u001b[38;5;241m=\u001b[39m \u001b[43mconvert_pdf_to_text\u001b[49m\u001b[43m(\u001b[49m\u001b[43mfolder_path\u001b[49m\u001b[43m,\u001b[49m\u001b[43m \u001b[49m\u001b[43mpdf\u001b[49m\u001b[43m)\u001b[49m\n\u001b[0;32m      5\u001b[0m     texts\u001b[38;5;241m.\u001b[39mappend({\u001b[38;5;124m'\u001b[39m\u001b[38;5;124mfile_name\u001b[39m\u001b[38;5;124m'\u001b[39m: pdf, \u001b[38;5;124m'\u001b[39m\u001b[38;5;124mtext\u001b[39m\u001b[38;5;124m'\u001b[39m: text})\n",
      "Cell \u001b[1;32mIn[3], line 3\u001b[0m, in \u001b[0;36mconvert_pdf_to_text\u001b[1;34m(folder_path, pdf)\u001b[0m\n\u001b[0;32m      2\u001b[0m \u001b[38;5;28;01mdef\u001b[39;00m\u001b[38;5;250m \u001b[39m\u001b[38;5;21mconvert_pdf_to_text\u001b[39m(folder_path, pdf):\n\u001b[1;32m----> 3\u001b[0m     pdf_file_path \u001b[38;5;241m=\u001b[39m \u001b[43mos\u001b[49m\u001b[38;5;241;43m.\u001b[39;49m\u001b[43mpath\u001b[49m\u001b[38;5;241;43m.\u001b[39;49m\u001b[43mjoin\u001b[49m\u001b[43m(\u001b[49m\u001b[43mfolder_path\u001b[49m\u001b[43m,\u001b[49m\u001b[43m \u001b[49m\u001b[43mpdf\u001b[49m\u001b[43m)\u001b[49m\n\u001b[0;32m      4\u001b[0m     doc \u001b[38;5;241m=\u001b[39m fitz\u001b[38;5;241m.\u001b[39mopen(pdf_file_path)\n\u001b[0;32m      5\u001b[0m     text \u001b[38;5;241m=\u001b[39m \u001b[38;5;124m'\u001b[39m\u001b[38;5;124m'\u001b[39m\n",
      "File \u001b[1;32m<frozen ntpath>:108\u001b[0m, in \u001b[0;36mjoin\u001b[1;34m(path, *paths)\u001b[0m\n",
      "\u001b[1;31mTypeError\u001b[0m: expected str, bytes or os.PathLike object, not list"
     ]
    }
   ],
   "source": [
    "# Convert the PDFs to text\n",
    "texts = []\n",
    "for pdf in pdfs:\n",
    "    text = convert_pdf_to_text(folder_path, pdf)\n",
    "    texts.append({'file_name': pdf, 'text': text})\n"
   ]
  },
  {
   "cell_type": "code",
   "execution_count": 23,
   "metadata": {},
   "outputs": [
    {
     "name": "stdout",
     "output_type": "stream",
     "text": [
      "                                   file_name  \\\n",
      "0  - CERTIFICATE OF DISSOLUTION OF A LLC.pdf   \n",
      "\n",
      "                                                text  \n",
      "0  Certificate of Dissolution-LLC & PLLC \\nWashin...  \n"
     ]
    }
   ],
   "source": [
    "# Convert the texts to a DataFrame\n",
    "df = pd.DataFrame(texts)\n",
    "print(df.head(1))\n"
   ]
  },
  {
   "cell_type": "code",
   "execution_count": 22,
   "metadata": {},
   "outputs": [],
   "source": [
    "#Store df to csv\n",
    "df.to_csv('llm.csv', index=False)"
   ]
  },
  {
   "cell_type": "code",
   "execution_count": 24,
   "metadata": {},
   "outputs": [
    {
     "ename": "NameError",
     "evalue": "name 'pdf_text' is not defined",
     "output_type": "error",
     "traceback": [
      "\u001b[1;31m---------------------------------------------------------------------------\u001b[0m",
      "\u001b[1;31mNameError\u001b[0m                                 Traceback (most recent call last)",
      "Cell \u001b[1;32mIn[24], line 8\u001b[0m\n\u001b[0;32m      5\u001b[0m     text \u001b[38;5;241m=\u001b[39m re\u001b[38;5;241m.\u001b[39msub(\u001b[38;5;124mr\u001b[39m\u001b[38;5;124m'\u001b[39m\u001b[38;5;124m[^\u001b[39m\u001b[38;5;124m\\\u001b[39m\u001b[38;5;124mx00-\u001b[39m\u001b[38;5;124m\\\u001b[39m\u001b[38;5;124mx7F]+\u001b[39m\u001b[38;5;124m'\u001b[39m, \u001b[38;5;124m'\u001b[39m\u001b[38;5;124m'\u001b[39m, text)\n\u001b[0;32m      6\u001b[0m     \u001b[38;5;28;01mreturn\u001b[39;00m text\u001b[38;5;241m.\u001b[39mstrip()\n\u001b[1;32m----> 8\u001b[0m cleaned_text \u001b[38;5;241m=\u001b[39m clean_text(\u001b[43mpdf_text\u001b[49m)\n\u001b[0;32m      9\u001b[0m \u001b[38;5;28mprint\u001b[39m(cleaned_text[:\u001b[38;5;241m1000\u001b[39m])\n",
      "\u001b[1;31mNameError\u001b[0m: name 'pdf_text' is not defined"
     ]
    }
   ],
   "source": [
    "import re\n",
    "\n",
    "def clean_text(text):\n",
    "    text = re.sub(r'\\s+', ' ', text)\n",
    "    text = re.sub(r'[^\\x00-\\x7F]+', '', text)\n",
    "    return text.strip()\n",
    "\n",
    "cleaned_text = clean_text(pdf_text)\n",
    "print(cleaned_text[:1000])\n"
   ]
  },
  {
   "cell_type": "code",
   "execution_count": 8,
   "metadata": {},
   "outputs": [
    {
     "name": "stdout",
     "output_type": "stream",
     "text": [
      "                                   file_name  \\\n",
      "0  - CERTIFICATE OF DISSOLUTION OF A LLC.pdf   \n",
      "1  - CERTIFICATE OF DISSOLUTION OF A LLC.pdf   \n",
      "2  - CERTIFICATE OF DISSOLUTION OF A LLC.pdf   \n",
      "3  - CERTIFICATE OF DISSOLUTION OF A LLC.pdf   \n",
      "4  - CERTIFICATE OF DISSOLUTION OF A LLC.pdf   \n",
      "\n",
      "                                               chunk  \n",
      "0  Certificate  of Dissolution -LLC & PLLC Washin...  \n",
      "1  After 120 days of this submission being filed ...  \n",
      "2          General Instruction s: Use dark ink only.  \n",
      "3  Complete the entire form and enter all request...  \n",
      "4  At our \\nwebsite www.sos.wa.gov/corporations  ...  \n"
     ]
    }
   ],
   "source": [
    "import spacy\n",
    "nlp = spacy.load(\"en_core_web_sm\")\n",
    "\n",
    "def tokenize_sentences_spacy(text):\n",
    "    doc = nlp(text)\n",
    "    return [sent.text for sent in doc.sents]\n",
    "\n",
    "# Example usage for your DataFrame\n",
    "chunks = []\n",
    "for i, row in df.iterrows():\n",
    "    for sent in tokenize_sentences_spacy(row['text']):\n",
    "        chunks.append({'file_name': row['file_name'], 'chunk': sent})\n",
    "chunk_df = pd.DataFrame(chunks)\n",
    "print(chunk_df.head())\n"
   ]
  },
  {
   "cell_type": "code",
   "execution_count": 11,
   "metadata": {},
   "outputs": [],
   "source": [
    "# Save as CSV\n",
    "chunk_df.to_csv('chunked_text_data.csv', index=False)\n",
    "\n",
    "# Save as JSONL\n",
    "chunk_df.to_json('chunked_text_data.jsonl', orient='records', lines=True)\n"
   ]
  },
  {
   "cell_type": "code",
   "execution_count": 14,
   "metadata": {},
   "outputs": [
    {
     "name": "stdout",
     "output_type": "stream",
     "text": [
      "{\"file_name\":\"- CERTIFICATE OF DISSOLUTION OF A LLC.pdf\",\"chunk\":\"Certificate  of Dissolution -LLC & PLLC Washington Secretary of State  Revised 10.2023   \\n \\n \\n \\n \\n \\n \\n \\n \\n \\nINSTRUCTIONS : CERTIFICATE  OF DISSOLUTION OF A  LIMITED LIABILITY CO MPANY  OR \\nPROFES SIONAL LIMITED LIABILITY COMPANY RCW 25.15  \\n \\nPurpose : Certificate of Dissolution i s used  to voluntarily dissolve the business entity.\"}\n",
      "{\"file_name\":\"- CERTIFICATE OF DISSOLUTION OF A LLC.pdf\",\"chunk\":\"After 120 days of this submission being filed the \\nbusiness entity is no longer eligible for reinstatement or revocation and is considered permanently dissolved . \\n \\n\"}\n",
      "{\"file_name\":\"- CERTIFICATE OF DISSOLUTION OF A LLC.pdf\",\"chunk\":\"General Instruction s: Use dark ink only.\"}\n",
      "{\"file_name\":\"- CERTIFICATE OF DISSOLUTION OF A LLC.pdf\",\"chunk\":\"Complete the entire form and enter all requested information in the fields provided.\"}\n",
      "{\"file_name\":\"- CERTIFICATE OF DISSOLUTION OF A LLC.pdf\",\"chunk\":\"At our \\nwebsite www.sos.wa.gov\\/corporations   a fillable .pdf version of this form is available or you can file online at https:\\/\\/ccfs.sos.wa.gov  \\n \\nMail : Send the completed form and payment to the address listed above . \\n \\n\"}\n"
     ]
    }
   ],
   "source": [
    "# Verify the JSONL content\n",
    "with open('chunked_text_data.jsonl', 'r') as f:\n",
    "    for i, line in enumerate(f):\n",
    "        if i < 5:  # Print the first 5 lines\n",
    "            print(line.strip())\n"
   ]
  },
  {
   "cell_type": "code",
   "execution_count": 18,
   "metadata": {},
   "outputs": [
    {
     "ename": "AttributeError",
     "evalue": "module 'absl' has no attribute '__version__'",
     "output_type": "error",
     "traceback": [
      "\u001b[1;31m---------------------------------------------------------------------------\u001b[0m",
      "\u001b[1;31mAttributeError\u001b[0m                            Traceback (most recent call last)",
      "Cell \u001b[1;32mIn[18], line 2\u001b[0m\n\u001b[0;32m      1\u001b[0m \u001b[38;5;28;01mimport\u001b[39;00m \u001b[38;5;21;01mabsl\u001b[39;00m\n\u001b[1;32m----> 2\u001b[0m \u001b[38;5;28mprint\u001b[39m(\u001b[38;5;124m\"\u001b[39m\u001b[38;5;124mabsl-py version:\u001b[39m\u001b[38;5;124m\"\u001b[39m, \u001b[43mabsl\u001b[49m\u001b[38;5;241;43m.\u001b[39;49m\u001b[43m__version__\u001b[49m)\n",
      "\u001b[1;31mAttributeError\u001b[0m: module 'absl' has no attribute '__version__'"
     ]
    }
   ],
   "source": [
    "import absl\n",
    "print(\"absl-py version:\", absl.__version__)"
   ]
  }
 ],
 "metadata": {
  "kernelspec": {
   "display_name": "LegalEase",
   "language": "python",
   "name": "python3"
  },
  "language_info": {
   "codemirror_mode": {
    "name": "ipython",
    "version": 3
   },
   "file_extension": ".py",
   "mimetype": "text/x-python",
   "name": "python",
   "nbconvert_exporter": "python",
   "pygments_lexer": "ipython3",
   "version": "3.11.11"
  }
 },
 "nbformat": 4,
 "nbformat_minor": 2
}

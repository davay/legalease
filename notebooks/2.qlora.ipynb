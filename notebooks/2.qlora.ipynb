{
 "cells": [
  {
   "cell_type": "markdown",
   "id": "74b91a29",
   "metadata": {},
   "source": [
    "Using Torchtune from Pytorch. Instructions [here](https://pytorch.org/torchtune/stable/tutorials/lora_finetune.html)"
   ]
  },
  {
   "cell_type": "code",
   "execution_count": 20,
   "id": "bcdef12a",
   "metadata": {},
   "outputs": [],
   "source": [
    "from torchtune.models.llama3_2 import qlora_llama3_2_3b\n",
    "from torchtune.datasets import chat_dataset\n",
    "from torchtune.models.llama3 import llama3_tokenizer\n",
    "from torchtune.data import Message\n",
    "import torch"
   ]
  },
  {
   "cell_type": "code",
   "execution_count": 21,
   "id": "73bfa595",
   "metadata": {},
   "outputs": [],
   "source": [
    "device = (\n",
    "    \"mps\" \n",
    "    if torch.backends.mps.is_available() \n",
    "    else \"cuda\" \n",
    "    if torch.cuda.is_available() \n",
    "    else \"cpu\"\n",
    ")\n",
    "device = torch.device(device)"
   ]
  },
  {
   "cell_type": "code",
   "execution_count": 1,
   "id": "4a8b7657",
   "metadata": {},
   "outputs": [
    {
     "data": {
      "text/plain": [
       "import error: No module named 'triton'\n"
      ]
     },
     "metadata": {},
     "output_type": "display_data"
    }
   ],
   "source": [
    "qlora_model = qlora_llama3_2_3b(lora_attn_modules=[\"q_proj\", \"v_proj\"])"
   ]
  },
  {
   "cell_type": "code",
   "execution_count": 18,
   "id": "9f5ebfba",
   "metadata": {},
   "outputs": [],
   "source": [
    "tokenizer = llama3_tokenizer(\"/tmp/Llama-3.2-3B-Instruct/original/tokenizer.model\")\n",
    "ds = chat_dataset(\n",
    "    tokenizer=tokenizer,\n",
    "    source=\"json\",\n",
    "    data_files=\"./QLoRA/business_qlora.json\",\n",
    "    conversation_column=\"conversations\",\n",
    "    conversation_style=\"sharegpt\",\n",
    ")"
   ]
  },
  {
   "cell_type": "code",
   "execution_count": null,
   "id": "032a7873",
   "metadata": {},
   "outputs": [],
   "source": [
    "!tune run lora_finetune_single_device --config llama3_2/3B_qlora_single_device"
   ]
  }
 ],
 "metadata": {
  "kernelspec": {
   "display_name": "Python 3",
   "language": "python",
   "name": "python3"
  },
  "language_info": {
   "codemirror_mode": {
    "name": "ipython"
   },
   "file_extension": ".py",
   "mimetype": "text/x-python",
   "name": "python",
   "nbconvert_exporter": "python",
   "pygments_lexer": "ipython3"
  }
 },
 "nbformat": 4,
 "nbformat_minor": 5
}

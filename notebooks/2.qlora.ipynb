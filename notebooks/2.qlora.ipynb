{
 "cells": [
  {
   "cell_type": "markdown",
   "id": "74b91a29",
   "metadata": {},
   "source": [
    "Using Torchtune from Pytorch. Instructions [here](https://pytorch.org/torchtune/stable/tutorials/lora_finetune.html)"
   ]
  },
  {
   "cell_type": "code",
   "execution_count": null,
   "id": "ee36f946",
   "metadata": {},
   "outputs": [],
   "source": [
    "import torch \n",
    "from torch import nn\n",
    "\n",
    "class LoRALinear(nn.Module):\n",
    "    def __init__(\n",
    "        self,\n",
    "        in_dim: int,\n",
    "        out_dim: int,\n",
    "        rank: int,\n",
    "        alpha: float, \n",
    "        dropout: float\n",
    "    ):\n",
    "        # These are the weights from the original pretrained model\n",
    "        self.linear = nn.Linear(in_dim, rank, bias=False)\n",
    "\n",
    "        # These are the new LoRA params. In general rank << in_dim, out_dim\n",
    "        self.lora_a = nn.Linear(in_dim, rank, bias=False)\n",
    "        self.lora_b = nn.Linear(rank, out_dim, bias=False)\n",
    "\n",
    "        # Rank and alpha are comonly-tuned hyperparameters\n",
    "        self.rank = rank\n",
    "        self.alpha = alpha\n",
    "\n",
    "        # Most implementations also include some dropout\n",
    "        self.dropout = nn.Dropout(p=dropout)\n",
    "\n",
    "        # The original params are frozen, and only LoRA params are trainable\n",
    "        self.linear.weight.requires_grad = False\n",
    "        self.lora_a.weight.requires_grad = True \n",
    "        self.lora_b.weight.requires_grad = True \n",
    "\n",
    "    def forward(self, x: torch.Tensor) -> torch.Tensor:\n",
    "        # This would be the output of the original model \n",
    "        frozen_out = self.linear(x) \n",
    "\n",
    "        # lora_a projects inputs down to the much smaller self.rank,\n",
    "        # then lora_b projects back up to the output dimension \n",
    "        lora_out = self.lora_b(self.lora_a(self.dropout(x)))\n",
    "\n",
    "        # Finally, scale by the alpha parameter (normalized by rank)\n",
    "        # and add to the original model's outputs\n",
    "        return frozen_out + (self.alpha / self.rank) * lora_out "
   ]
  }
 ],
 "metadata": {
  "kernelspec": {
   "display_name": "Python 3",
   "language": "python",
   "name": "python3"
  },
  "language_info": {
   "codemirror_mode": {
    "name": "ipython"
   },
   "file_extension": ".py",
   "mimetype": "text/x-python",
   "name": "python",
   "nbconvert_exporter": "python",
   "pygments_lexer": "ipython3"
  }
 },
 "nbformat": 4,
 "nbformat_minor": 5
}
